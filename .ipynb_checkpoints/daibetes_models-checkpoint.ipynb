{
 "cells": [
  {
   "cell_type": "code",
   "execution_count": 1,
   "id": "6253fa38",
   "metadata": {},
   "outputs": [
    {
     "data": {
      "text/html": [
       "<div>\n",
       "<style scoped>\n",
       "    .dataframe tbody tr th:only-of-type {\n",
       "        vertical-align: middle;\n",
       "    }\n",
       "\n",
       "    .dataframe tbody tr th {\n",
       "        vertical-align: top;\n",
       "    }\n",
       "\n",
       "    .dataframe thead th {\n",
       "        text-align: right;\n",
       "    }\n",
       "</style>\n",
       "<table border=\"1\" class=\"dataframe\">\n",
       "  <thead>\n",
       "    <tr style=\"text-align: right;\">\n",
       "      <th></th>\n",
       "      <th>Pregnancies</th>\n",
       "      <th>Glucose</th>\n",
       "      <th>BloodPressure</th>\n",
       "      <th>SkinThickness</th>\n",
       "      <th>Insulin</th>\n",
       "      <th>BMI</th>\n",
       "      <th>DiabetesPedigreeFunction</th>\n",
       "      <th>Age</th>\n",
       "      <th>Outcome</th>\n",
       "    </tr>\n",
       "  </thead>\n",
       "  <tbody>\n",
       "    <tr>\n",
       "      <th>0</th>\n",
       "      <td>2</td>\n",
       "      <td>138</td>\n",
       "      <td>62</td>\n",
       "      <td>35</td>\n",
       "      <td>0</td>\n",
       "      <td>33.6</td>\n",
       "      <td>0.127</td>\n",
       "      <td>47</td>\n",
       "      <td>1</td>\n",
       "    </tr>\n",
       "    <tr>\n",
       "      <th>1</th>\n",
       "      <td>0</td>\n",
       "      <td>84</td>\n",
       "      <td>82</td>\n",
       "      <td>31</td>\n",
       "      <td>125</td>\n",
       "      <td>38.2</td>\n",
       "      <td>0.233</td>\n",
       "      <td>23</td>\n",
       "      <td>0</td>\n",
       "    </tr>\n",
       "    <tr>\n",
       "      <th>2</th>\n",
       "      <td>0</td>\n",
       "      <td>145</td>\n",
       "      <td>0</td>\n",
       "      <td>0</td>\n",
       "      <td>0</td>\n",
       "      <td>44.2</td>\n",
       "      <td>0.630</td>\n",
       "      <td>31</td>\n",
       "      <td>1</td>\n",
       "    </tr>\n",
       "    <tr>\n",
       "      <th>3</th>\n",
       "      <td>0</td>\n",
       "      <td>135</td>\n",
       "      <td>68</td>\n",
       "      <td>42</td>\n",
       "      <td>250</td>\n",
       "      <td>42.3</td>\n",
       "      <td>0.365</td>\n",
       "      <td>24</td>\n",
       "      <td>1</td>\n",
       "    </tr>\n",
       "    <tr>\n",
       "      <th>4</th>\n",
       "      <td>1</td>\n",
       "      <td>139</td>\n",
       "      <td>62</td>\n",
       "      <td>41</td>\n",
       "      <td>480</td>\n",
       "      <td>40.7</td>\n",
       "      <td>0.536</td>\n",
       "      <td>21</td>\n",
       "      <td>0</td>\n",
       "    </tr>\n",
       "  </tbody>\n",
       "</table>\n",
       "</div>"
      ],
      "text/plain": [
       "   Pregnancies  Glucose  BloodPressure  SkinThickness  Insulin   BMI  \\\n",
       "0            2      138             62             35        0  33.6   \n",
       "1            0       84             82             31      125  38.2   \n",
       "2            0      145              0              0        0  44.2   \n",
       "3            0      135             68             42      250  42.3   \n",
       "4            1      139             62             41      480  40.7   \n",
       "\n",
       "   DiabetesPedigreeFunction  Age  Outcome  \n",
       "0                     0.127   47        1  \n",
       "1                     0.233   23        0  \n",
       "2                     0.630   31        1  \n",
       "3                     0.365   24        1  \n",
       "4                     0.536   21        0  "
      ]
     },
     "execution_count": 1,
     "metadata": {},
     "output_type": "execute_result"
    }
   ],
   "source": [
    "import warnings\n",
    "warnings.simplefilter('ignore')\n",
    "import pandas as pd\n",
    "import numpy as np\n",
    "import matplotlib.pyplot as plt\n",
    "import seaborn as sns\n",
    "data=pd.read_csv(\"/Users/hp/OneDrive/Desktop/diabetes_csv_file.csv\")\n",
    "data.head()"
   ]
  },
  {
   "cell_type": "code",
   "execution_count": 2,
   "id": "45bfc341",
   "metadata": {},
   "outputs": [
    {
     "data": {
      "text/html": [
       "<div>\n",
       "<style scoped>\n",
       "    .dataframe tbody tr th:only-of-type {\n",
       "        vertical-align: middle;\n",
       "    }\n",
       "\n",
       "    .dataframe tbody tr th {\n",
       "        vertical-align: top;\n",
       "    }\n",
       "\n",
       "    .dataframe thead th {\n",
       "        text-align: right;\n",
       "    }\n",
       "</style>\n",
       "<table border=\"1\" class=\"dataframe\">\n",
       "  <thead>\n",
       "    <tr style=\"text-align: right;\">\n",
       "      <th></th>\n",
       "      <th>Pregnancies</th>\n",
       "      <th>Glucose</th>\n",
       "      <th>BloodPressure</th>\n",
       "      <th>SkinThickness</th>\n",
       "      <th>Insulin</th>\n",
       "      <th>BMI</th>\n",
       "      <th>DiabetesPedigreeFunction</th>\n",
       "      <th>Age</th>\n",
       "      <th>Outcome</th>\n",
       "    </tr>\n",
       "  </thead>\n",
       "  <tbody>\n",
       "    <tr>\n",
       "      <th>1995</th>\n",
       "      <td>2</td>\n",
       "      <td>75</td>\n",
       "      <td>64</td>\n",
       "      <td>24</td>\n",
       "      <td>55</td>\n",
       "      <td>29.7</td>\n",
       "      <td>0.370</td>\n",
       "      <td>33</td>\n",
       "      <td>0</td>\n",
       "    </tr>\n",
       "    <tr>\n",
       "      <th>1996</th>\n",
       "      <td>8</td>\n",
       "      <td>179</td>\n",
       "      <td>72</td>\n",
       "      <td>42</td>\n",
       "      <td>130</td>\n",
       "      <td>32.7</td>\n",
       "      <td>0.719</td>\n",
       "      <td>36</td>\n",
       "      <td>1</td>\n",
       "    </tr>\n",
       "    <tr>\n",
       "      <th>1997</th>\n",
       "      <td>6</td>\n",
       "      <td>85</td>\n",
       "      <td>78</td>\n",
       "      <td>0</td>\n",
       "      <td>0</td>\n",
       "      <td>31.2</td>\n",
       "      <td>0.382</td>\n",
       "      <td>42</td>\n",
       "      <td>0</td>\n",
       "    </tr>\n",
       "    <tr>\n",
       "      <th>1998</th>\n",
       "      <td>0</td>\n",
       "      <td>129</td>\n",
       "      <td>110</td>\n",
       "      <td>46</td>\n",
       "      <td>130</td>\n",
       "      <td>67.1</td>\n",
       "      <td>0.319</td>\n",
       "      <td>26</td>\n",
       "      <td>1</td>\n",
       "    </tr>\n",
       "    <tr>\n",
       "      <th>1999</th>\n",
       "      <td>2</td>\n",
       "      <td>81</td>\n",
       "      <td>72</td>\n",
       "      <td>15</td>\n",
       "      <td>76</td>\n",
       "      <td>30.1</td>\n",
       "      <td>0.547</td>\n",
       "      <td>25</td>\n",
       "      <td>0</td>\n",
       "    </tr>\n",
       "  </tbody>\n",
       "</table>\n",
       "</div>"
      ],
      "text/plain": [
       "      Pregnancies  Glucose  BloodPressure  SkinThickness  Insulin   BMI  \\\n",
       "1995            2       75             64             24       55  29.7   \n",
       "1996            8      179             72             42      130  32.7   \n",
       "1997            6       85             78              0        0  31.2   \n",
       "1998            0      129            110             46      130  67.1   \n",
       "1999            2       81             72             15       76  30.1   \n",
       "\n",
       "      DiabetesPedigreeFunction  Age  Outcome  \n",
       "1995                     0.370   33        0  \n",
       "1996                     0.719   36        1  \n",
       "1997                     0.382   42        0  \n",
       "1998                     0.319   26        1  \n",
       "1999                     0.547   25        0  "
      ]
     },
     "execution_count": 2,
     "metadata": {},
     "output_type": "execute_result"
    }
   ],
   "source": [
    "data.tail()"
   ]
  },
  {
   "cell_type": "code",
   "execution_count": 3,
   "id": "e232bd15",
   "metadata": {},
   "outputs": [
    {
     "name": "stdout",
     "output_type": "stream",
     "text": [
      "<class 'pandas.core.frame.DataFrame'>\n",
      "RangeIndex: 2000 entries, 0 to 1999\n",
      "Data columns (total 9 columns):\n",
      " #   Column                    Non-Null Count  Dtype  \n",
      "---  ------                    --------------  -----  \n",
      " 0   Pregnancies               2000 non-null   int64  \n",
      " 1   Glucose                   2000 non-null   int64  \n",
      " 2   BloodPressure             2000 non-null   int64  \n",
      " 3   SkinThickness             2000 non-null   int64  \n",
      " 4   Insulin                   2000 non-null   int64  \n",
      " 5   BMI                       2000 non-null   float64\n",
      " 6   DiabetesPedigreeFunction  2000 non-null   float64\n",
      " 7   Age                       2000 non-null   int64  \n",
      " 8   Outcome                   2000 non-null   int64  \n",
      "dtypes: float64(2), int64(7)\n",
      "memory usage: 140.8 KB\n"
     ]
    }
   ],
   "source": [
    "data.info()"
   ]
  },
  {
   "cell_type": "code",
   "execution_count": 4,
   "id": "8638062e",
   "metadata": {},
   "outputs": [
    {
     "data": {
      "text/html": [
       "<div>\n",
       "<style scoped>\n",
       "    .dataframe tbody tr th:only-of-type {\n",
       "        vertical-align: middle;\n",
       "    }\n",
       "\n",
       "    .dataframe tbody tr th {\n",
       "        vertical-align: top;\n",
       "    }\n",
       "\n",
       "    .dataframe thead th {\n",
       "        text-align: right;\n",
       "    }\n",
       "</style>\n",
       "<table border=\"1\" class=\"dataframe\">\n",
       "  <thead>\n",
       "    <tr style=\"text-align: right;\">\n",
       "      <th></th>\n",
       "      <th>Pregnancies</th>\n",
       "      <th>Glucose</th>\n",
       "      <th>BloodPressure</th>\n",
       "      <th>SkinThickness</th>\n",
       "      <th>Insulin</th>\n",
       "      <th>BMI</th>\n",
       "      <th>DiabetesPedigreeFunction</th>\n",
       "      <th>Age</th>\n",
       "      <th>Outcome</th>\n",
       "    </tr>\n",
       "  </thead>\n",
       "  <tbody>\n",
       "    <tr>\n",
       "      <th>count</th>\n",
       "      <td>2000.000000</td>\n",
       "      <td>2000.000000</td>\n",
       "      <td>2000.000000</td>\n",
       "      <td>2000.000000</td>\n",
       "      <td>2000.000000</td>\n",
       "      <td>2000.000000</td>\n",
       "      <td>2000.000000</td>\n",
       "      <td>2000.000000</td>\n",
       "      <td>2000.000000</td>\n",
       "    </tr>\n",
       "    <tr>\n",
       "      <th>mean</th>\n",
       "      <td>3.703500</td>\n",
       "      <td>121.182500</td>\n",
       "      <td>69.145500</td>\n",
       "      <td>20.935000</td>\n",
       "      <td>80.254000</td>\n",
       "      <td>32.193000</td>\n",
       "      <td>0.470930</td>\n",
       "      <td>33.090500</td>\n",
       "      <td>0.342000</td>\n",
       "    </tr>\n",
       "    <tr>\n",
       "      <th>std</th>\n",
       "      <td>3.306063</td>\n",
       "      <td>32.068636</td>\n",
       "      <td>19.188315</td>\n",
       "      <td>16.103243</td>\n",
       "      <td>111.180534</td>\n",
       "      <td>8.149901</td>\n",
       "      <td>0.323553</td>\n",
       "      <td>11.786423</td>\n",
       "      <td>0.474498</td>\n",
       "    </tr>\n",
       "    <tr>\n",
       "      <th>min</th>\n",
       "      <td>0.000000</td>\n",
       "      <td>0.000000</td>\n",
       "      <td>0.000000</td>\n",
       "      <td>0.000000</td>\n",
       "      <td>0.000000</td>\n",
       "      <td>0.000000</td>\n",
       "      <td>0.078000</td>\n",
       "      <td>21.000000</td>\n",
       "      <td>0.000000</td>\n",
       "    </tr>\n",
       "    <tr>\n",
       "      <th>25%</th>\n",
       "      <td>1.000000</td>\n",
       "      <td>99.000000</td>\n",
       "      <td>63.500000</td>\n",
       "      <td>0.000000</td>\n",
       "      <td>0.000000</td>\n",
       "      <td>27.375000</td>\n",
       "      <td>0.244000</td>\n",
       "      <td>24.000000</td>\n",
       "      <td>0.000000</td>\n",
       "    </tr>\n",
       "    <tr>\n",
       "      <th>50%</th>\n",
       "      <td>3.000000</td>\n",
       "      <td>117.000000</td>\n",
       "      <td>72.000000</td>\n",
       "      <td>23.000000</td>\n",
       "      <td>40.000000</td>\n",
       "      <td>32.300000</td>\n",
       "      <td>0.376000</td>\n",
       "      <td>29.000000</td>\n",
       "      <td>0.000000</td>\n",
       "    </tr>\n",
       "    <tr>\n",
       "      <th>75%</th>\n",
       "      <td>6.000000</td>\n",
       "      <td>141.000000</td>\n",
       "      <td>80.000000</td>\n",
       "      <td>32.000000</td>\n",
       "      <td>130.000000</td>\n",
       "      <td>36.800000</td>\n",
       "      <td>0.624000</td>\n",
       "      <td>40.000000</td>\n",
       "      <td>1.000000</td>\n",
       "    </tr>\n",
       "    <tr>\n",
       "      <th>max</th>\n",
       "      <td>17.000000</td>\n",
       "      <td>199.000000</td>\n",
       "      <td>122.000000</td>\n",
       "      <td>110.000000</td>\n",
       "      <td>744.000000</td>\n",
       "      <td>80.600000</td>\n",
       "      <td>2.420000</td>\n",
       "      <td>81.000000</td>\n",
       "      <td>1.000000</td>\n",
       "    </tr>\n",
       "  </tbody>\n",
       "</table>\n",
       "</div>"
      ],
      "text/plain": [
       "       Pregnancies      Glucose  BloodPressure  SkinThickness      Insulin  \\\n",
       "count  2000.000000  2000.000000    2000.000000    2000.000000  2000.000000   \n",
       "mean      3.703500   121.182500      69.145500      20.935000    80.254000   \n",
       "std       3.306063    32.068636      19.188315      16.103243   111.180534   \n",
       "min       0.000000     0.000000       0.000000       0.000000     0.000000   \n",
       "25%       1.000000    99.000000      63.500000       0.000000     0.000000   \n",
       "50%       3.000000   117.000000      72.000000      23.000000    40.000000   \n",
       "75%       6.000000   141.000000      80.000000      32.000000   130.000000   \n",
       "max      17.000000   199.000000     122.000000     110.000000   744.000000   \n",
       "\n",
       "               BMI  DiabetesPedigreeFunction          Age      Outcome  \n",
       "count  2000.000000               2000.000000  2000.000000  2000.000000  \n",
       "mean     32.193000                  0.470930    33.090500     0.342000  \n",
       "std       8.149901                  0.323553    11.786423     0.474498  \n",
       "min       0.000000                  0.078000    21.000000     0.000000  \n",
       "25%      27.375000                  0.244000    24.000000     0.000000  \n",
       "50%      32.300000                  0.376000    29.000000     0.000000  \n",
       "75%      36.800000                  0.624000    40.000000     1.000000  \n",
       "max      80.600000                  2.420000    81.000000     1.000000  "
      ]
     },
     "execution_count": 4,
     "metadata": {},
     "output_type": "execute_result"
    }
   ],
   "source": [
    "data.describe()"
   ]
  },
  {
   "cell_type": "code",
   "execution_count": 5,
   "id": "648766e6",
   "metadata": {},
   "outputs": [
    {
     "data": {
      "text/html": [
       "<div>\n",
       "<style scoped>\n",
       "    .dataframe tbody tr th:only-of-type {\n",
       "        vertical-align: middle;\n",
       "    }\n",
       "\n",
       "    .dataframe tbody tr th {\n",
       "        vertical-align: top;\n",
       "    }\n",
       "\n",
       "    .dataframe thead th {\n",
       "        text-align: right;\n",
       "    }\n",
       "</style>\n",
       "<table border=\"1\" class=\"dataframe\">\n",
       "  <thead>\n",
       "    <tr style=\"text-align: right;\">\n",
       "      <th></th>\n",
       "      <th>count</th>\n",
       "      <th>mean</th>\n",
       "      <th>std</th>\n",
       "      <th>min</th>\n",
       "      <th>25%</th>\n",
       "      <th>50%</th>\n",
       "      <th>75%</th>\n",
       "      <th>max</th>\n",
       "    </tr>\n",
       "  </thead>\n",
       "  <tbody>\n",
       "    <tr>\n",
       "      <th>Pregnancies</th>\n",
       "      <td>2000.0</td>\n",
       "      <td>3.70350</td>\n",
       "      <td>3.306063</td>\n",
       "      <td>0.000</td>\n",
       "      <td>1.000</td>\n",
       "      <td>3.000</td>\n",
       "      <td>6.000</td>\n",
       "      <td>17.00</td>\n",
       "    </tr>\n",
       "    <tr>\n",
       "      <th>Glucose</th>\n",
       "      <td>2000.0</td>\n",
       "      <td>121.18250</td>\n",
       "      <td>32.068636</td>\n",
       "      <td>0.000</td>\n",
       "      <td>99.000</td>\n",
       "      <td>117.000</td>\n",
       "      <td>141.000</td>\n",
       "      <td>199.00</td>\n",
       "    </tr>\n",
       "    <tr>\n",
       "      <th>BloodPressure</th>\n",
       "      <td>2000.0</td>\n",
       "      <td>69.14550</td>\n",
       "      <td>19.188315</td>\n",
       "      <td>0.000</td>\n",
       "      <td>63.500</td>\n",
       "      <td>72.000</td>\n",
       "      <td>80.000</td>\n",
       "      <td>122.00</td>\n",
       "    </tr>\n",
       "    <tr>\n",
       "      <th>SkinThickness</th>\n",
       "      <td>2000.0</td>\n",
       "      <td>20.93500</td>\n",
       "      <td>16.103243</td>\n",
       "      <td>0.000</td>\n",
       "      <td>0.000</td>\n",
       "      <td>23.000</td>\n",
       "      <td>32.000</td>\n",
       "      <td>110.00</td>\n",
       "    </tr>\n",
       "    <tr>\n",
       "      <th>Insulin</th>\n",
       "      <td>2000.0</td>\n",
       "      <td>80.25400</td>\n",
       "      <td>111.180534</td>\n",
       "      <td>0.000</td>\n",
       "      <td>0.000</td>\n",
       "      <td>40.000</td>\n",
       "      <td>130.000</td>\n",
       "      <td>744.00</td>\n",
       "    </tr>\n",
       "    <tr>\n",
       "      <th>BMI</th>\n",
       "      <td>2000.0</td>\n",
       "      <td>32.19300</td>\n",
       "      <td>8.149901</td>\n",
       "      <td>0.000</td>\n",
       "      <td>27.375</td>\n",
       "      <td>32.300</td>\n",
       "      <td>36.800</td>\n",
       "      <td>80.60</td>\n",
       "    </tr>\n",
       "    <tr>\n",
       "      <th>DiabetesPedigreeFunction</th>\n",
       "      <td>2000.0</td>\n",
       "      <td>0.47093</td>\n",
       "      <td>0.323553</td>\n",
       "      <td>0.078</td>\n",
       "      <td>0.244</td>\n",
       "      <td>0.376</td>\n",
       "      <td>0.624</td>\n",
       "      <td>2.42</td>\n",
       "    </tr>\n",
       "    <tr>\n",
       "      <th>Age</th>\n",
       "      <td>2000.0</td>\n",
       "      <td>33.09050</td>\n",
       "      <td>11.786423</td>\n",
       "      <td>21.000</td>\n",
       "      <td>24.000</td>\n",
       "      <td>29.000</td>\n",
       "      <td>40.000</td>\n",
       "      <td>81.00</td>\n",
       "    </tr>\n",
       "    <tr>\n",
       "      <th>Outcome</th>\n",
       "      <td>2000.0</td>\n",
       "      <td>0.34200</td>\n",
       "      <td>0.474498</td>\n",
       "      <td>0.000</td>\n",
       "      <td>0.000</td>\n",
       "      <td>0.000</td>\n",
       "      <td>1.000</td>\n",
       "      <td>1.00</td>\n",
       "    </tr>\n",
       "  </tbody>\n",
       "</table>\n",
       "</div>"
      ],
      "text/plain": [
       "                           count       mean         std     min     25%  \\\n",
       "Pregnancies               2000.0    3.70350    3.306063   0.000   1.000   \n",
       "Glucose                   2000.0  121.18250   32.068636   0.000  99.000   \n",
       "BloodPressure             2000.0   69.14550   19.188315   0.000  63.500   \n",
       "SkinThickness             2000.0   20.93500   16.103243   0.000   0.000   \n",
       "Insulin                   2000.0   80.25400  111.180534   0.000   0.000   \n",
       "BMI                       2000.0   32.19300    8.149901   0.000  27.375   \n",
       "DiabetesPedigreeFunction  2000.0    0.47093    0.323553   0.078   0.244   \n",
       "Age                       2000.0   33.09050   11.786423  21.000  24.000   \n",
       "Outcome                   2000.0    0.34200    0.474498   0.000   0.000   \n",
       "\n",
       "                              50%      75%     max  \n",
       "Pregnancies                 3.000    6.000   17.00  \n",
       "Glucose                   117.000  141.000  199.00  \n",
       "BloodPressure              72.000   80.000  122.00  \n",
       "SkinThickness              23.000   32.000  110.00  \n",
       "Insulin                    40.000  130.000  744.00  \n",
       "BMI                        32.300   36.800   80.60  \n",
       "DiabetesPedigreeFunction    0.376    0.624    2.42  \n",
       "Age                        29.000   40.000   81.00  \n",
       "Outcome                     0.000    1.000    1.00  "
      ]
     },
     "execution_count": 5,
     "metadata": {},
     "output_type": "execute_result"
    }
   ],
   "source": [
    "data.describe().T"
   ]
  },
  {
   "cell_type": "code",
   "execution_count": 6,
   "id": "4889c9c8",
   "metadata": {},
   "outputs": [
    {
     "data": {
      "text/html": [
       "<div>\n",
       "<style scoped>\n",
       "    .dataframe tbody tr th:only-of-type {\n",
       "        vertical-align: middle;\n",
       "    }\n",
       "\n",
       "    .dataframe tbody tr th {\n",
       "        vertical-align: top;\n",
       "    }\n",
       "\n",
       "    .dataframe thead th {\n",
       "        text-align: right;\n",
       "    }\n",
       "</style>\n",
       "<table border=\"1\" class=\"dataframe\">\n",
       "  <thead>\n",
       "    <tr style=\"text-align: right;\">\n",
       "      <th></th>\n",
       "      <th>Pregnancies</th>\n",
       "      <th>Glucose</th>\n",
       "      <th>BloodPressure</th>\n",
       "      <th>SkinThickness</th>\n",
       "      <th>Insulin</th>\n",
       "      <th>BMI</th>\n",
       "      <th>DiabetesPedigreeFunction</th>\n",
       "      <th>Age</th>\n",
       "      <th>Outcome</th>\n",
       "    </tr>\n",
       "  </thead>\n",
       "  <tbody>\n",
       "    <tr>\n",
       "      <th>Pregnancies</th>\n",
       "      <td>1.000000</td>\n",
       "      <td>0.120405</td>\n",
       "      <td>0.149672</td>\n",
       "      <td>-0.063375</td>\n",
       "      <td>-0.076600</td>\n",
       "      <td>0.019475</td>\n",
       "      <td>-0.025453</td>\n",
       "      <td>0.539457</td>\n",
       "      <td>0.224437</td>\n",
       "    </tr>\n",
       "    <tr>\n",
       "      <th>Glucose</th>\n",
       "      <td>0.120405</td>\n",
       "      <td>1.000000</td>\n",
       "      <td>0.138044</td>\n",
       "      <td>0.062368</td>\n",
       "      <td>0.320371</td>\n",
       "      <td>0.226864</td>\n",
       "      <td>0.123243</td>\n",
       "      <td>0.254496</td>\n",
       "      <td>0.458421</td>\n",
       "    </tr>\n",
       "    <tr>\n",
       "      <th>BloodPressure</th>\n",
       "      <td>0.149672</td>\n",
       "      <td>0.138044</td>\n",
       "      <td>1.000000</td>\n",
       "      <td>0.198800</td>\n",
       "      <td>0.087384</td>\n",
       "      <td>0.281545</td>\n",
       "      <td>0.051331</td>\n",
       "      <td>0.238375</td>\n",
       "      <td>0.075958</td>\n",
       "    </tr>\n",
       "    <tr>\n",
       "      <th>SkinThickness</th>\n",
       "      <td>-0.063375</td>\n",
       "      <td>0.062368</td>\n",
       "      <td>0.198800</td>\n",
       "      <td>1.000000</td>\n",
       "      <td>0.448859</td>\n",
       "      <td>0.393760</td>\n",
       "      <td>0.178299</td>\n",
       "      <td>-0.111034</td>\n",
       "      <td>0.076040</td>\n",
       "    </tr>\n",
       "    <tr>\n",
       "      <th>Insulin</th>\n",
       "      <td>-0.076600</td>\n",
       "      <td>0.320371</td>\n",
       "      <td>0.087384</td>\n",
       "      <td>0.448859</td>\n",
       "      <td>1.000000</td>\n",
       "      <td>0.223012</td>\n",
       "      <td>0.192719</td>\n",
       "      <td>-0.085879</td>\n",
       "      <td>0.120924</td>\n",
       "    </tr>\n",
       "    <tr>\n",
       "      <th>BMI</th>\n",
       "      <td>0.019475</td>\n",
       "      <td>0.226864</td>\n",
       "      <td>0.281545</td>\n",
       "      <td>0.393760</td>\n",
       "      <td>0.223012</td>\n",
       "      <td>1.000000</td>\n",
       "      <td>0.125719</td>\n",
       "      <td>0.038987</td>\n",
       "      <td>0.276726</td>\n",
       "    </tr>\n",
       "    <tr>\n",
       "      <th>DiabetesPedigreeFunction</th>\n",
       "      <td>-0.025453</td>\n",
       "      <td>0.123243</td>\n",
       "      <td>0.051331</td>\n",
       "      <td>0.178299</td>\n",
       "      <td>0.192719</td>\n",
       "      <td>0.125719</td>\n",
       "      <td>1.000000</td>\n",
       "      <td>0.026569</td>\n",
       "      <td>0.155459</td>\n",
       "    </tr>\n",
       "    <tr>\n",
       "      <th>Age</th>\n",
       "      <td>0.539457</td>\n",
       "      <td>0.254496</td>\n",
       "      <td>0.238375</td>\n",
       "      <td>-0.111034</td>\n",
       "      <td>-0.085879</td>\n",
       "      <td>0.038987</td>\n",
       "      <td>0.026569</td>\n",
       "      <td>1.000000</td>\n",
       "      <td>0.236509</td>\n",
       "    </tr>\n",
       "    <tr>\n",
       "      <th>Outcome</th>\n",
       "      <td>0.224437</td>\n",
       "      <td>0.458421</td>\n",
       "      <td>0.075958</td>\n",
       "      <td>0.076040</td>\n",
       "      <td>0.120924</td>\n",
       "      <td>0.276726</td>\n",
       "      <td>0.155459</td>\n",
       "      <td>0.236509</td>\n",
       "      <td>1.000000</td>\n",
       "    </tr>\n",
       "  </tbody>\n",
       "</table>\n",
       "</div>"
      ],
      "text/plain": [
       "                          Pregnancies   Glucose  BloodPressure  SkinThickness  \\\n",
       "Pregnancies                  1.000000  0.120405       0.149672      -0.063375   \n",
       "Glucose                      0.120405  1.000000       0.138044       0.062368   \n",
       "BloodPressure                0.149672  0.138044       1.000000       0.198800   \n",
       "SkinThickness               -0.063375  0.062368       0.198800       1.000000   \n",
       "Insulin                     -0.076600  0.320371       0.087384       0.448859   \n",
       "BMI                          0.019475  0.226864       0.281545       0.393760   \n",
       "DiabetesPedigreeFunction    -0.025453  0.123243       0.051331       0.178299   \n",
       "Age                          0.539457  0.254496       0.238375      -0.111034   \n",
       "Outcome                      0.224437  0.458421       0.075958       0.076040   \n",
       "\n",
       "                           Insulin       BMI  DiabetesPedigreeFunction  \\\n",
       "Pregnancies              -0.076600  0.019475                 -0.025453   \n",
       "Glucose                   0.320371  0.226864                  0.123243   \n",
       "BloodPressure             0.087384  0.281545                  0.051331   \n",
       "SkinThickness             0.448859  0.393760                  0.178299   \n",
       "Insulin                   1.000000  0.223012                  0.192719   \n",
       "BMI                       0.223012  1.000000                  0.125719   \n",
       "DiabetesPedigreeFunction  0.192719  0.125719                  1.000000   \n",
       "Age                      -0.085879  0.038987                  0.026569   \n",
       "Outcome                   0.120924  0.276726                  0.155459   \n",
       "\n",
       "                               Age   Outcome  \n",
       "Pregnancies               0.539457  0.224437  \n",
       "Glucose                   0.254496  0.458421  \n",
       "BloodPressure             0.238375  0.075958  \n",
       "SkinThickness            -0.111034  0.076040  \n",
       "Insulin                  -0.085879  0.120924  \n",
       "BMI                       0.038987  0.276726  \n",
       "DiabetesPedigreeFunction  0.026569  0.155459  \n",
       "Age                       1.000000  0.236509  \n",
       "Outcome                   0.236509  1.000000  "
      ]
     },
     "execution_count": 6,
     "metadata": {},
     "output_type": "execute_result"
    }
   ],
   "source": [
    "data.corr()"
   ]
  },
  {
   "cell_type": "markdown",
   "id": "973610ad",
   "metadata": {},
   "source": [
    "# Check the null values"
   ]
  },
  {
   "cell_type": "code",
   "execution_count": 7,
   "id": "9fa35d9d",
   "metadata": {},
   "outputs": [
    {
     "data": {
      "text/plain": [
       "Pregnancies                 0\n",
       "Glucose                     0\n",
       "BloodPressure               0\n",
       "SkinThickness               0\n",
       "Insulin                     0\n",
       "BMI                         0\n",
       "DiabetesPedigreeFunction    0\n",
       "Age                         0\n",
       "Outcome                     0\n",
       "dtype: int64"
      ]
     },
     "execution_count": 7,
     "metadata": {},
     "output_type": "execute_result"
    }
   ],
   "source": [
    "data.isna().sum()"
   ]
  },
  {
   "cell_type": "markdown",
   "id": "2b494fbc",
   "metadata": {},
   "source": [
    "#### The above dataset don't have the null values."
   ]
  },
  {
   "cell_type": "markdown",
   "id": "7c274896",
   "metadata": {},
   "source": [
    "# Heatmap"
   ]
  },
  {
   "cell_type": "code",
   "execution_count": 8,
   "id": "a697324c",
   "metadata": {},
   "outputs": [
    {
     "data": {
      "image/png": "[encoded data removed]",
      "text/plain": [
       "<Figure size 432x288 with 2 Axes>"
      ]
     },
     "metadata": {
      "needs_background": "light"
     },
     "output_type": "display_data"
    }
   ],
   "source": [
    "sns.heatmap(data.corr(),vmax=1,vmin=-1)\n",
    "plt.show()"
   ]
  },
  {
   "cell_type": "markdown",
   "id": "c68f0091",
   "metadata": {},
   "source": [
    "### From the above heatmap we can clearly say that there no correlation between the two features"
   ]
  },
  {
   "cell_type": "markdown",
   "id": "c135f063",
   "metadata": {},
   "source": [
    "# Countplot"
   ]
  },
  {
   "cell_type": "code",
   "execution_count": 9,
   "id": "12c35383",
   "metadata": {},
   "outputs": [
    {
     "data": {
      "image/png": "[encoded data removed]",
      "text/plain": [
       "<Figure size 432x288 with 1 Axes>"
      ]
     },
     "metadata": {
      "needs_background": "light"
     },
     "output_type": "display_data"
    }
   ],
   "source": [
    "sns.countplot(data['Outcome'])\n",
    "plt.show()"
   ]
  },
  {
   "cell_type": "code",
   "execution_count": 10,
   "id": "d296d2de",
   "metadata": {},
   "outputs": [
    {
     "name": "stdout",
     "output_type": "stream",
     "text": [
      "<class 'pandas.core.frame.DataFrame'>\n",
      "RangeIndex: 2000 entries, 0 to 1999\n",
      "Data columns (total 9 columns):\n",
      " #   Column                    Non-Null Count  Dtype  \n",
      "---  ------                    --------------  -----  \n",
      " 0   Pregnancies               2000 non-null   int64  \n",
      " 1   Glucose                   2000 non-null   int64  \n",
      " 2   BloodPressure             2000 non-null   int64  \n",
      " 3   SkinThickness             2000 non-null   int64  \n",
      " 4   Insulin                   2000 non-null   int64  \n",
      " 5   BMI                       2000 non-null   float64\n",
      " 6   DiabetesPedigreeFunction  2000 non-null   float64\n",
      " 7   Age                       2000 non-null   int64  \n",
      " 8   Outcome                   2000 non-null   int64  \n",
      "dtypes: float64(2), int64(7)\n",
      "memory usage: 140.8 KB\n"
     ]
    }
   ],
   "source": [
    "data.info()"
   ]
  },
  {
   "cell_type": "markdown",
   "id": "e084eabf",
   "metadata": {},
   "source": [
    "## Assign the values to x and y\n",
    "    x values are called independent variables.\n",
    "        Pregnencies,Glucose,BloodPressure,SkinThickness,Insulin,BMI,DiabetesPedigreeFunction,Age\n",
    "    y values are called dependent variable.\n",
    "    Because the x values are dependent on the y."
   ]
  },
  {
   "cell_type": "code",
   "execution_count": 11,
   "id": "7cd8e17a",
   "metadata": {},
   "outputs": [
    {
     "name": "stdout",
     "output_type": "stream",
     "text": [
      "      Pregnancies  Glucose  BloodPressure  SkinThickness  Insulin   BMI  \\\n",
      "0               2      138             62             35        0  33.6   \n",
      "1               0       84             82             31      125  38.2   \n",
      "2               0      145              0              0        0  44.2   \n",
      "3               0      135             68             42      250  42.3   \n",
      "4               1      139             62             41      480  40.7   \n",
      "...           ...      ...            ...            ...      ...   ...   \n",
      "1995            2       75             64             24       55  29.7   \n",
      "1996            8      179             72             42      130  32.7   \n",
      "1997            6       85             78              0        0  31.2   \n",
      "1998            0      129            110             46      130  67.1   \n",
      "1999            2       81             72             15       76  30.1   \n",
      "\n",
      "      DiabetesPedigreeFunction  Age  \n",
      "0                        0.127   47  \n",
      "1                        0.233   23  \n",
      "2                        0.630   31  \n",
      "3                        0.365   24  \n",
      "4                        0.536   21  \n",
      "...                        ...  ...  \n",
      "1995                     0.370   33  \n",
      "1996                     0.719   36  \n",
      "1997                     0.382   42  \n",
      "1998                     0.319   26  \n",
      "1999                     0.547   25  \n",
      "\n",
      "[2000 rows x 8 columns]\n",
      "      Outcome\n",
      "0           1\n",
      "1           0\n",
      "2           1\n",
      "3           1\n",
      "4           0\n",
      "...       ...\n",
      "1995        0\n",
      "1996        1\n",
      "1997        0\n",
      "1998        1\n",
      "1999        0\n",
      "\n",
      "[2000 rows x 1 columns]\n"
     ]
    }
   ],
   "source": [
    "x=data.iloc[:,:-1]\n",
    "y=data.iloc[:,-1:]\n",
    "print(x)\n",
    "print(y)"
   ]
  },
  {
   "cell_type": "code",
   "execution_count": 12,
   "id": "2e25a76d",
   "metadata": {},
   "outputs": [
    {
     "data": {
      "text/html": [
       "<div>\n",
       "<style scoped>\n",
       "    .dataframe tbody tr th:only-of-type {\n",
       "        vertical-align: middle;\n",
       "    }\n",
       "\n",
       "    .dataframe tbody tr th {\n",
       "        vertical-align: top;\n",
       "    }\n",
       "\n",
       "    .dataframe thead th {\n",
       "        text-align: right;\n",
       "    }\n",
       "</style>\n",
       "<table border=\"1\" class=\"dataframe\">\n",
       "  <thead>\n",
       "    <tr style=\"text-align: right;\">\n",
       "      <th></th>\n",
       "      <th>Pregnancies</th>\n",
       "      <th>Glucose</th>\n",
       "      <th>BloodPressure</th>\n",
       "      <th>SkinThickness</th>\n",
       "      <th>Insulin</th>\n",
       "      <th>BMI</th>\n",
       "      <th>DiabetesPedigreeFunction</th>\n",
       "      <th>Age</th>\n",
       "    </tr>\n",
       "  </thead>\n",
       "  <tbody>\n",
       "    <tr>\n",
       "      <th>0</th>\n",
       "      <td>2</td>\n",
       "      <td>138</td>\n",
       "      <td>62</td>\n",
       "      <td>35</td>\n",
       "      <td>0</td>\n",
       "      <td>33.6</td>\n",
       "      <td>0.127</td>\n",
       "      <td>47</td>\n",
       "    </tr>\n",
       "    <tr>\n",
       "      <th>1</th>\n",
       "      <td>0</td>\n",
       "      <td>84</td>\n",
       "      <td>82</td>\n",
       "      <td>31</td>\n",
       "      <td>125</td>\n",
       "      <td>38.2</td>\n",
       "      <td>0.233</td>\n",
       "      <td>23</td>\n",
       "    </tr>\n",
       "    <tr>\n",
       "      <th>2</th>\n",
       "      <td>0</td>\n",
       "      <td>145</td>\n",
       "      <td>0</td>\n",
       "      <td>0</td>\n",
       "      <td>0</td>\n",
       "      <td>44.2</td>\n",
       "      <td>0.630</td>\n",
       "      <td>31</td>\n",
       "    </tr>\n",
       "    <tr>\n",
       "      <th>3</th>\n",
       "      <td>0</td>\n",
       "      <td>135</td>\n",
       "      <td>68</td>\n",
       "      <td>42</td>\n",
       "      <td>250</td>\n",
       "      <td>42.3</td>\n",
       "      <td>0.365</td>\n",
       "      <td>24</td>\n",
       "    </tr>\n",
       "    <tr>\n",
       "      <th>4</th>\n",
       "      <td>1</td>\n",
       "      <td>139</td>\n",
       "      <td>62</td>\n",
       "      <td>41</td>\n",
       "      <td>480</td>\n",
       "      <td>40.7</td>\n",
       "      <td>0.536</td>\n",
       "      <td>21</td>\n",
       "    </tr>\n",
       "  </tbody>\n",
       "</table>\n",
       "</div>"
      ],
      "text/plain": [
       "   Pregnancies  Glucose  BloodPressure  SkinThickness  Insulin   BMI  \\\n",
       "0            2      138             62             35        0  33.6   \n",
       "1            0       84             82             31      125  38.2   \n",
       "2            0      145              0              0        0  44.2   \n",
       "3            0      135             68             42      250  42.3   \n",
       "4            1      139             62             41      480  40.7   \n",
       "\n",
       "   DiabetesPedigreeFunction  Age  \n",
       "0                     0.127   47  \n",
       "1                     0.233   23  \n",
       "2                     0.630   31  \n",
       "3                     0.365   24  \n",
       "4                     0.536   21  "
      ]
     },
     "execution_count": 12,
     "metadata": {},
     "output_type": "execute_result"
    }
   ],
   "source": [
    "x.head()"
   ]
  },
  {
   "cell_type": "markdown",
   "id": "11c4a112",
   "metadata": {},
   "source": [
    "## Normalize the above values"
   ]
  },
  {
   "cell_type": "code",
   "execution_count": 13,
   "id": "1f6fc77d",
   "metadata": {},
   "outputs": [
    {
     "data": {
      "text/html": [
       "<div>\n",
       "<style scoped>\n",
       "    .dataframe tbody tr th:only-of-type {\n",
       "        vertical-align: middle;\n",
       "    }\n",
       "\n",
       "    .dataframe tbody tr th {\n",
       "        vertical-align: top;\n",
       "    }\n",
       "\n",
       "    .dataframe thead th {\n",
       "        text-align: right;\n",
       "    }\n",
       "</style>\n",
       "<table border=\"1\" class=\"dataframe\">\n",
       "  <thead>\n",
       "    <tr style=\"text-align: right;\">\n",
       "      <th></th>\n",
       "      <th>Pregnancies</th>\n",
       "      <th>Glucose</th>\n",
       "      <th>BloodPressure</th>\n",
       "      <th>SkinThickness</th>\n",
       "      <th>Insulin</th>\n",
       "      <th>BMI</th>\n",
       "      <th>DiabetesPedigreeFunction</th>\n",
       "      <th>Age</th>\n",
       "    </tr>\n",
       "  </thead>\n",
       "  <tbody>\n",
       "    <tr>\n",
       "      <th>0</th>\n",
       "      <td>2</td>\n",
       "      <td>138</td>\n",
       "      <td>62</td>\n",
       "      <td>35</td>\n",
       "      <td>0</td>\n",
       "      <td>33.6</td>\n",
       "      <td>0.127</td>\n",
       "      <td>47</td>\n",
       "    </tr>\n",
       "    <tr>\n",
       "      <th>1</th>\n",
       "      <td>0</td>\n",
       "      <td>84</td>\n",
       "      <td>82</td>\n",
       "      <td>31</td>\n",
       "      <td>125</td>\n",
       "      <td>38.2</td>\n",
       "      <td>0.233</td>\n",
       "      <td>23</td>\n",
       "    </tr>\n",
       "    <tr>\n",
       "      <th>2</th>\n",
       "      <td>0</td>\n",
       "      <td>145</td>\n",
       "      <td>0</td>\n",
       "      <td>0</td>\n",
       "      <td>0</td>\n",
       "      <td>44.2</td>\n",
       "      <td>0.630</td>\n",
       "      <td>31</td>\n",
       "    </tr>\n",
       "    <tr>\n",
       "      <th>3</th>\n",
       "      <td>0</td>\n",
       "      <td>135</td>\n",
       "      <td>68</td>\n",
       "      <td>42</td>\n",
       "      <td>250</td>\n",
       "      <td>42.3</td>\n",
       "      <td>0.365</td>\n",
       "      <td>24</td>\n",
       "    </tr>\n",
       "    <tr>\n",
       "      <th>4</th>\n",
       "      <td>1</td>\n",
       "      <td>139</td>\n",
       "      <td>62</td>\n",
       "      <td>41</td>\n",
       "      <td>480</td>\n",
       "      <td>40.7</td>\n",
       "      <td>0.536</td>\n",
       "      <td>21</td>\n",
       "    </tr>\n",
       "    <tr>\n",
       "      <th>...</th>\n",
       "      <td>...</td>\n",
       "      <td>...</td>\n",
       "      <td>...</td>\n",
       "      <td>...</td>\n",
       "      <td>...</td>\n",
       "      <td>...</td>\n",
       "      <td>...</td>\n",
       "      <td>...</td>\n",
       "    </tr>\n",
       "    <tr>\n",
       "      <th>1995</th>\n",
       "      <td>2</td>\n",
       "      <td>75</td>\n",
       "      <td>64</td>\n",
       "      <td>24</td>\n",
       "      <td>55</td>\n",
       "      <td>29.7</td>\n",
       "      <td>0.370</td>\n",
       "      <td>33</td>\n",
       "    </tr>\n",
       "    <tr>\n",
       "      <th>1996</th>\n",
       "      <td>8</td>\n",
       "      <td>179</td>\n",
       "      <td>72</td>\n",
       "      <td>42</td>\n",
       "      <td>130</td>\n",
       "      <td>32.7</td>\n",
       "      <td>0.719</td>\n",
       "      <td>36</td>\n",
       "    </tr>\n",
       "    <tr>\n",
       "      <th>1997</th>\n",
       "      <td>6</td>\n",
       "      <td>85</td>\n",
       "      <td>78</td>\n",
       "      <td>0</td>\n",
       "      <td>0</td>\n",
       "      <td>31.2</td>\n",
       "      <td>0.382</td>\n",
       "      <td>42</td>\n",
       "    </tr>\n",
       "    <tr>\n",
       "      <th>1998</th>\n",
       "      <td>0</td>\n",
       "      <td>129</td>\n",
       "      <td>110</td>\n",
       "      <td>46</td>\n",
       "      <td>130</td>\n",
       "      <td>67.1</td>\n",
       "      <td>0.319</td>\n",
       "      <td>26</td>\n",
       "    </tr>\n",
       "    <tr>\n",
       "      <th>1999</th>\n",
       "      <td>2</td>\n",
       "      <td>81</td>\n",
       "      <td>72</td>\n",
       "      <td>15</td>\n",
       "      <td>76</td>\n",
       "      <td>30.1</td>\n",
       "      <td>0.547</td>\n",
       "      <td>25</td>\n",
       "    </tr>\n",
       "  </tbody>\n",
       "</table>\n",
       "<p>2000 rows × 8 columns</p>\n",
       "</div>"
      ],
      "text/plain": [
       "      Pregnancies  Glucose  BloodPressure  SkinThickness  Insulin   BMI  \\\n",
       "0               2      138             62             35        0  33.6   \n",
       "1               0       84             82             31      125  38.2   \n",
       "2               0      145              0              0        0  44.2   \n",
       "3               0      135             68             42      250  42.3   \n",
       "4               1      139             62             41      480  40.7   \n",
       "...           ...      ...            ...            ...      ...   ...   \n",
       "1995            2       75             64             24       55  29.7   \n",
       "1996            8      179             72             42      130  32.7   \n",
       "1997            6       85             78              0        0  31.2   \n",
       "1998            0      129            110             46      130  67.1   \n",
       "1999            2       81             72             15       76  30.1   \n",
       "\n",
       "      DiabetesPedigreeFunction  Age  \n",
       "0                        0.127   47  \n",
       "1                        0.233   23  \n",
       "2                        0.630   31  \n",
       "3                        0.365   24  \n",
       "4                        0.536   21  \n",
       "...                        ...  ...  \n",
       "1995                     0.370   33  \n",
       "1996                     0.719   36  \n",
       "1997                     0.382   42  \n",
       "1998                     0.319   26  \n",
       "1999                     0.547   25  \n",
       "\n",
       "[2000 rows x 8 columns]"
      ]
     },
     "execution_count": 13,
     "metadata": {},
     "output_type": "execute_result"
    }
   ],
   "source": [
    "x"
   ]
  },
  {
   "cell_type": "markdown",
   "id": "47fbd45f",
   "metadata": {},
   "source": [
    "## MinMaxScaler converts the data points in the range of [0,1]"
   ]
  },
  {
   "cell_type": "markdown",
   "id": "b1c46120",
   "metadata": {},
   "source": [
    "### MinMaxScaler= (x -xmin) / (xmax -xmin)"
   ]
  },
  {
   "cell_type": "code",
   "execution_count": 14,
   "id": "41ddcedb",
   "metadata": {},
   "outputs": [
    {
     "data": {
      "text/plain": [
       "array([[0.11764706, 0.69346734, 0.50819672, ..., 0.41687345, 0.02092229,\n",
       "        0.43333333],\n",
       "       [0.        , 0.42211055, 0.67213115, ..., 0.47394541, 0.06618275,\n",
       "        0.03333333],\n",
       "       [0.        , 0.72864322, 0.        , ..., 0.5483871 , 0.23569599,\n",
       "        0.16666667],\n",
       "       ...,\n",
       "       [0.35294118, 0.42713568, 0.63934426, ..., 0.38709677, 0.12980359,\n",
       "        0.35      ],\n",
       "       [0.        , 0.64824121, 0.90163934, ..., 0.8325062 , 0.1029035 ,\n",
       "        0.08333333],\n",
       "       [0.11764706, 0.40703518, 0.59016393, ..., 0.37344913, 0.20025619,\n",
       "        0.06666667]])"
      ]
     },
     "execution_count": 14,
     "metadata": {},
     "output_type": "execute_result"
    }
   ],
   "source": [
    "from sklearn.preprocessing import MinMaxScaler\n",
    "mms=MinMaxScaler()\n",
    "x_mms=mms.fit_transform(x)\n",
    "x_mms"
   ]
  },
  {
   "cell_type": "markdown",
   "id": "5cbffe2c",
   "metadata": {},
   "source": [
    "## Split the data for training and testing"
   ]
  },
  {
   "cell_type": "code",
   "execution_count": 15,
   "id": "9a78c933",
   "metadata": {},
   "outputs": [
    {
     "name": "stdout",
     "output_type": "stream",
     "text": [
      "(1400, 8)\n",
      "(600, 8)\n",
      "(1400, 1)\n",
      "(600, 1)\n"
     ]
    }
   ],
   "source": [
    "from sklearn.model_selection import train_test_split\n",
    "xtrain,xtest,ytrain,ytest=train_test_split(x_mms,y,random_state=3,test_size=0.3)\n",
    "print(xtrain.shape)\n",
    "print(xtest.shape)\n",
    "print(ytrain.shape)\n",
    "print(ytest.shape)"
   ]
  },
  {
   "cell_type": "markdown",
   "id": "95d0d937",
   "metadata": {},
   "source": [
    "## Apply some Classification Algorithms "
   ]
  },
  {
   "cell_type": "markdown",
   "id": "c86feb92",
   "metadata": {},
   "source": [
    "### 1) Logistic Regression"
   ]
  },
  {
   "cell_type": "code",
   "execution_count": 16,
   "id": "fa3009ac",
   "metadata": {},
   "outputs": [
    {
     "data": {
      "text/plain": [
       "array([0, 0, 0, 0, 1, 0, 1, 1, 0, 0, 1, 0, 0, 0, 0, 0, 0, 0, 1, 0, 0, 0,\n",
       "       0, 0, 0, 0, 1, 0, 1, 1, 0, 0, 1, 0, 1, 0, 0, 0, 0, 0, 1, 0, 0, 0,\n",
       "       0, 1, 0, 0, 0, 0, 0, 0, 0, 0, 0, 1, 0, 0, 1, 0, 0, 1, 0, 0, 0, 0,\n",
       "       0, 0, 0, 0, 0, 0, 0, 0, 1, 0, 0, 0, 0, 1, 0, 0, 1, 1, 1, 0, 0, 0,\n",
       "       0, 0, 1, 1, 0, 1, 0, 0, 1, 0, 1, 0, 0, 1, 0, 0, 1, 0, 0, 0, 1, 0,\n",
       "       0, 0, 0, 0, 1, 0, 0, 1, 0, 1, 1, 0, 0, 0, 0, 0, 0, 0, 0, 0, 0, 0,\n",
       "       0, 0, 1, 0, 0, 0, 0, 0, 1, 0, 0, 0, 0, 0, 0, 0, 0, 0, 0, 1, 0, 0,\n",
       "       0, 1, 0, 0, 1, 1, 0, 1, 0, 0, 1, 0, 0, 1, 0, 0, 0, 0, 0, 1, 0, 0,\n",
       "       1, 1, 1, 1, 1, 0, 1, 1, 0, 0, 1, 0, 0, 1, 0, 0, 0, 0, 0, 0, 0, 0,\n",
       "       1, 0, 0, 0, 0, 0, 0, 0, 0, 0, 0, 1, 1, 1, 0, 0, 0, 1, 0, 0, 0, 0,\n",
       "       0, 0, 0, 1, 0, 0, 0, 0, 0, 0, 0, 0, 0, 0, 0, 0, 0, 0, 0, 0, 0, 1,\n",
       "       0, 0, 0, 1, 0, 0, 0, 0, 0, 0, 0, 0, 1, 0, 0, 1, 0, 0, 1, 1, 0, 0,\n",
       "       0, 1, 0, 0, 0, 0, 0, 0, 1, 0, 1, 0, 1, 0, 1, 0, 0, 0, 0, 1, 1, 1,\n",
       "       1, 0, 0, 1, 1, 0, 0, 0, 0, 1, 0, 1, 1, 1, 0, 0, 0, 0, 0, 0, 0, 0,\n",
       "       0, 1, 1, 0, 0, 0, 0, 1, 0, 0, 1, 0, 0, 0, 1, 0, 0, 0, 0, 0, 1, 1,\n",
       "       0, 1, 1, 1, 0, 0, 0, 1, 0, 1, 1, 1, 0, 0, 1, 0, 0, 1, 1, 0, 0, 1,\n",
       "       0, 1, 0, 0, 1, 0, 1, 0, 0, 0, 0, 1, 0, 1, 0, 1, 0, 0, 1, 0, 0, 0,\n",
       "       0, 0, 0, 1, 0, 0, 1, 0, 1, 0, 1, 0, 0, 0, 0, 0, 1, 1, 0, 0, 1, 0,\n",
       "       0, 0, 0, 1, 0, 0, 0, 0, 1, 0, 0, 0, 0, 0, 0, 0, 1, 1, 0, 0, 0, 0,\n",
       "       0, 0, 0, 0, 0, 0, 1, 0, 0, 0, 1, 0, 1, 1, 0, 0, 0, 0, 0, 0, 0, 0,\n",
       "       0, 0, 0, 0, 0, 0, 1, 1, 1, 0, 1, 0, 0, 1, 0, 0, 1, 0, 0, 1, 0, 0,\n",
       "       0, 1, 0, 0, 0, 1, 0, 1, 0, 0, 0, 1, 0, 1, 0, 1, 1, 0, 1, 0, 0, 1,\n",
       "       0, 0, 0, 0, 0, 0, 1, 0, 1, 0, 0, 0, 0, 0, 0, 0, 0, 0, 0, 0, 0, 0,\n",
       "       1, 0, 0, 0, 1, 0, 0, 0, 0, 0, 0, 0, 0, 0, 0, 0, 0, 0, 0, 0, 1, 0,\n",
       "       1, 0, 1, 0, 0, 0, 0, 0, 1, 0, 0, 1, 0, 0, 0, 1, 0, 1, 1, 0, 0, 0,\n",
       "       0, 0, 0, 0, 1, 0, 0, 0, 0, 0, 0, 0, 0, 0, 0, 0, 0, 0, 0, 0, 1, 0,\n",
       "       0, 0, 0, 0, 0, 1, 0, 1, 0, 0, 0, 1, 0, 0, 0, 1, 0, 0, 0, 0, 0, 0,\n",
       "       1, 0, 0, 1, 0, 0], dtype=int64)"
      ]
     },
     "execution_count": 16,
     "metadata": {},
     "output_type": "execute_result"
    }
   ],
   "source": [
    "from sklearn.linear_model import LogisticRegression\n",
    "lr=LogisticRegression()\n",
    "lr.fit(xtrain,ytrain)\n",
    "ypred_lr=lr.predict(xtest)\n",
    "ypred_lr"
   ]
  },
  {
   "cell_type": "markdown",
   "id": "ec82c338",
   "metadata": {},
   "source": [
    "## Performance Testing for the Logistic Regression"
   ]
  },
  {
   "cell_type": "code",
   "execution_count": 17,
   "id": "417babad",
   "metadata": {},
   "outputs": [
    {
     "name": "stdout",
     "output_type": "stream",
     "text": [
      "classification report:\n",
      "               precision    recall  f1-score   support\n",
      "\n",
      "           0       0.78      0.89      0.83       389\n",
      "           1       0.72      0.53      0.61       211\n",
      "\n",
      "    accuracy                           0.76       600\n",
      "   macro avg       0.75      0.71      0.72       600\n",
      "weighted avg       0.76      0.76      0.75       600\n",
      "\n",
      "Accuracy score: 0.7616666666666667\n",
      "Confusion matrix:\n",
      " [[346  43]\n",
      " [100 111]]\n"
     ]
    }
   ],
   "source": [
    "from sklearn.metrics import classification_report,accuracy_score,confusion_matrix\n",
    "print('classification report:\\n',classification_report(ytest,ypred_lr))\n",
    "print('Accuracy score:',accuracy_score(ytest,ypred_lr))\n",
    "print('Confusion matrix:\\n',confusion_matrix(ytest,ypred_lr))"
   ]
  },
  {
   "cell_type": "markdown",
   "id": "20556145",
   "metadata": {},
   "source": [
    "## 2) KNN"
   ]
  },
  {
   "cell_type": "code",
   "execution_count": 18,
   "id": "9668b69d",
   "metadata": {},
   "outputs": [
    {
     "name": "stdout",
     "output_type": "stream",
     "text": [
      "[1.0, 0.9807142857142858, 0.965, 0.8985714285714286, 0.8864285714285715, 0.8692857142857143, 0.8478571428571429, 0.8428571428571429, 0.8421428571428572, 0.8314285714285714, 0.8292857142857143, 0.8228571428571428, 0.8192857142857143, 0.8135714285714286, 0.8142857142857143, 0.8092857142857143, 0.8014285714285714, 0.7935714285714286, 0.79]\n",
      "[0.9366666666666666, 0.865, 0.82, 0.7766666666666666, 0.7833333333333333, 0.7933333333333333, 0.7883333333333333, 0.77, 0.7633333333333333, 0.7466666666666667, 0.7616666666666667, 0.7633333333333333, 0.755, 0.7533333333333333, 0.7533333333333333, 0.7483333333333333, 0.7466666666666667, 0.7466666666666667, 0.735]\n"
     ]
    }
   ],
   "source": [
    "from sklearn.neighbors import KNeighborsClassifier\n",
    "train_score=[]\n",
    "test_score=[]\n",
    "for k in range(1,20):\n",
    "    knn=KNeighborsClassifier(k)\n",
    "    knn.fit(xtrain,ytrain)\n",
    "    train_score.append(knn.score(xtrain,ytrain))\n",
    "    test_score.append(knn.score(xtest,ytest))\n",
    "print(train_score)\n",
    "print(test_score)"
   ]
  },
  {
   "cell_type": "code",
   "execution_count": 19,
   "id": "a0131e5b",
   "metadata": {},
   "outputs": [
    {
     "name": "stdout",
     "output_type": "stream",
     "text": [
      "[0 0 0 0 0 0 1 1 1 0 1 0 0 0 0 0 0 0 1 0 0 0 0 0 0 0 1 0 1 1 0 0 1 1 1 0 0\n",
      " 1 0 0 1 0 0 1 0 1 0 0 0 1 0 0 1 0 0 1 0 0 0 0 0 1 1 0 0 0 0 1 0 0 1 1 0 0\n",
      " 1 0 1 1 0 1 0 0 1 1 1 0 1 0 0 0 1 1 0 1 0 0 1 1 1 0 0 1 1 0 1 0 0 0 0 0 0\n",
      " 0 0 0 1 1 0 1 0 1 1 0 0 0 0 0 0 0 0 0 0 0 0 0 1 0 0 0 0 0 0 0 0 0 0 0 0 0\n",
      " 0 0 0 1 0 0 0 0 0 0 1 1 0 1 1 0 0 0 0 1 1 0 0 1 0 1 0 0 0 1 0 0 1 0 1 1 0\n",
      " 0 0 1 0 1 0 0 0 0 0 0 1 0 1 0 0 0 1 0 0 0 1 0 0 1 1 1 0 0 0 0 0 0 1 0 0 1\n",
      " 0 0 0 1 0 0 0 0 0 0 0 0 1 0 0 1 1 0 0 1 0 0 0 1 0 0 0 0 0 0 1 0 1 0 0 1 0\n",
      " 0 1 1 0 0 0 1 0 0 0 1 0 0 1 0 0 1 0 0 0 0 0 0 0 1 1 1 1 0 0 1 0 0 0 0 0 0\n",
      " 0 1 1 1 0 0 0 0 0 0 0 1 0 1 0 0 0 0 0 1 0 0 0 0 0 0 1 0 0 0 1 0 0 1 0 1 1\n",
      " 1 0 0 0 1 0 1 1 1 0 0 1 0 0 1 1 0 0 1 0 1 0 1 1 0 1 0 0 0 0 1 1 0 1 1 1 0\n",
      " 1 0 0 0 0 0 0 1 0 0 1 0 1 0 0 0 1 0 0 0 0 1 0 0 1 0 0 0 0 1 0 0 1 0 1 0 1\n",
      " 0 0 0 0 0 0 1 0 0 0 0 0 1 1 1 0 0 1 0 0 0 0 0 1 1 0 0 0 0 0 0 0 0 0 0 0 0\n",
      " 0 0 1 1 1 0 1 0 0 0 0 0 1 0 0 1 0 0 0 1 0 0 1 0 0 1 0 0 0 1 0 1 0 1 1 0 1\n",
      " 0 0 1 0 0 0 0 0 0 1 0 1 0 1 1 0 0 0 0 0 0 0 0 0 0 1 0 0 0 1 1 0 0 0 1 0 0\n",
      " 0 0 0 0 0 0 0 0 1 0 0 0 1 0 0 0 0 1 1 0 0 0 0 0 0 0 0 1 1 0 0 0 0 0 0 0 1\n",
      " 0 0 0 0 0 0 0 0 0 0 0 1 1 0 0 1 0 0 0 0 0 0 0 0 1 0 0 0 0 0 0 0 1 0 0 1 0\n",
      " 0 0 1 0 0 1 0 1]\n"
     ]
    }
   ],
   "source": [
    "ypred_knn=knn.predict(xtest)\n",
    "print(ypred_knn)"
   ]
  },
  {
   "cell_type": "code",
   "execution_count": 20,
   "id": "70d34847",
   "metadata": {},
   "outputs": [
    {
     "name": "stdout",
     "output_type": "stream",
     "text": [
      "max test score 93.66666666666667 % and k=[1]\n",
      "max of the train score 100.0 % k=[1]\n"
     ]
    }
   ],
   "source": [
    "max_test_score=max(test_score)\n",
    "test_score_ind=[i for i,v in enumerate(test_score) if v==max_test_score]\n",
    "print('max test score {} % and k={}'.format(max_test_score*100,list(map(lambda x:x+1,test_score_ind))))\n",
    "\n",
    "max_train_score=max(train_score)\n",
    "train_score_ind=[i for i,v in enumerate(train_score) if v==max_train_score]\n",
    "print('max of the train score {} % k={}'.format(max_train_score*100,list(map(lambda x:x+1,test_score_ind))))"
   ]
  },
  {
   "cell_type": "code",
   "execution_count": 21,
   "id": "0239e127",
   "metadata": {},
   "outputs": [
    {
     "name": "stdout",
     "output_type": "stream",
     "text": [
      "classification report:\n",
      "               precision    recall  f1-score   support\n",
      "\n",
      "           0       0.77      0.84      0.80       389\n",
      "           1       0.65      0.54      0.59       211\n",
      "\n",
      "    accuracy                           0.73       600\n",
      "   macro avg       0.71      0.69      0.70       600\n",
      "weighted avg       0.73      0.73      0.73       600\n",
      "\n",
      "Accuracy score: 0.735\n",
      "Confusion matrix:\n",
      " [[327  62]\n",
      " [ 97 114]]\n"
     ]
    }
   ],
   "source": [
    "from sklearn.metrics import classification_report,accuracy_score,confusion_matrix\n",
    "print('classification report:\\n',classification_report(ytest,ypred_knn))\n",
    "print('Accuracy score:',accuracy_score(ytest,ypred_knn))\n",
    "print('Confusion matrix:\\n',confusion_matrix(ytest,ypred_knn))"
   ]
  },
  {
   "cell_type": "code",
   "execution_count": 22,
   "id": "79413560",
   "metadata": {},
   "outputs": [
    {
     "data": {
      "text/plain": [
       "array([0, 0, 0, 0, 0, 0, 1, 1, 0, 0, 1, 0, 0, 0, 0, 0, 1, 0, 1, 0, 0, 0,\n",
       "       0, 0, 0, 0, 1, 0, 1, 1, 0, 0, 1, 1, 1, 1, 0, 1, 0, 0, 0, 1, 0, 1,\n",
       "       0, 1, 0, 0, 0, 0, 0, 0, 0, 0, 0, 1, 0, 0, 1, 0, 0, 1, 0, 0, 0, 0,\n",
       "       0, 0, 0, 0, 1, 0, 1, 0, 1, 0, 1, 1, 0, 1, 0, 0, 1, 1, 1, 0, 1, 0,\n",
       "       0, 0, 1, 1, 0, 1, 0, 0, 1, 0, 1, 0, 0, 0, 0, 0, 1, 0, 0, 0, 1, 0,\n",
       "       0, 0, 0, 0, 1, 0, 0, 1, 0, 0, 1, 0, 0, 0, 0, 0, 0, 0, 0, 0, 0, 0,\n",
       "       0, 0, 1, 0, 0, 0, 0, 0, 1, 0, 0, 0, 0, 0, 0, 0, 0, 1, 0, 1, 0, 0,\n",
       "       0, 1, 0, 0, 1, 1, 0, 1, 0, 0, 1, 0, 0, 1, 0, 0, 0, 1, 0, 1, 1, 0,\n",
       "       1, 1, 1, 1, 1, 0, 1, 1, 0, 0, 0, 0, 0, 1, 0, 0, 0, 0, 0, 0, 0, 0,\n",
       "       1, 0, 1, 0, 0, 0, 0, 1, 1, 0, 0, 1, 1, 1, 0, 0, 1, 1, 0, 0, 1, 1,\n",
       "       1, 0, 0, 1, 0, 0, 0, 1, 0, 0, 0, 1, 1, 1, 1, 0, 0, 0, 0, 0, 0, 1,\n",
       "       0, 0, 0, 1, 0, 0, 1, 0, 0, 0, 0, 1, 1, 0, 0, 1, 0, 0, 1, 1, 0, 0,\n",
       "       0, 1, 1, 1, 1, 0, 0, 1, 0, 0, 1, 0, 1, 0, 1, 0, 0, 0, 0, 1, 1, 1,\n",
       "       1, 0, 0, 1, 1, 0, 0, 0, 0, 0, 0, 1, 1, 1, 0, 0, 0, 0, 0, 0, 0, 0,\n",
       "       0, 1, 1, 0, 0, 0, 0, 1, 0, 0, 1, 0, 0, 0, 1, 0, 1, 0, 1, 0, 1, 1,\n",
       "       0, 1, 1, 0, 0, 0, 0, 1, 0, 1, 1, 1, 0, 0, 1, 0, 0, 1, 1, 0, 0, 0,\n",
       "       0, 1, 0, 0, 1, 0, 1, 0, 0, 0, 0, 1, 1, 1, 1, 1, 0, 0, 1, 1, 0, 0,\n",
       "       0, 0, 0, 1, 0, 0, 1, 0, 1, 0, 1, 0, 0, 0, 0, 0, 1, 1, 0, 0, 1, 0,\n",
       "       0, 0, 0, 1, 0, 0, 0, 0, 1, 0, 0, 0, 0, 0, 0, 0, 1, 1, 0, 0, 0, 0,\n",
       "       0, 0, 0, 0, 0, 0, 1, 0, 0, 1, 1, 0, 1, 1, 0, 0, 0, 0, 0, 0, 0, 0,\n",
       "       0, 0, 0, 0, 0, 0, 1, 1, 1, 0, 1, 0, 0, 1, 0, 0, 1, 0, 1, 1, 0, 0,\n",
       "       0, 1, 0, 0, 0, 1, 1, 1, 0, 0, 0, 1, 0, 1, 0, 1, 1, 0, 1, 0, 0, 1,\n",
       "       1, 0, 0, 0, 0, 0, 1, 0, 1, 0, 1, 0, 0, 1, 0, 0, 0, 0, 0, 0, 0, 0,\n",
       "       1, 0, 0, 0, 1, 0, 0, 0, 0, 1, 0, 0, 0, 0, 0, 0, 0, 0, 0, 0, 0, 0,\n",
       "       1, 0, 0, 0, 0, 0, 0, 0, 1, 0, 1, 1, 0, 0, 0, 1, 0, 1, 1, 0, 0, 0,\n",
       "       1, 0, 0, 0, 1, 1, 0, 0, 0, 0, 0, 0, 0, 0, 1, 0, 0, 0, 1, 1, 1, 0,\n",
       "       0, 0, 0, 0, 0, 1, 0, 1, 0, 0, 0, 1, 0, 0, 0, 1, 1, 0, 0, 0, 0, 0,\n",
       "       1, 0, 0, 1, 0, 1], dtype=int64)"
      ]
     },
     "execution_count": 22,
     "metadata": {},
     "output_type": "execute_result"
    }
   ],
   "source": [
    "from sklearn.naive_bayes import GaussianNB\n",
    "gnb=GaussianNB()\n",
    "gnb.fit(xtrain,ytrain)\n",
    "ypred_gnb=gnb.predict(xtest)\n",
    "ypred_gnb"
   ]
  },
  {
   "cell_type": "code",
   "execution_count": 23,
   "id": "fa618674",
   "metadata": {},
   "outputs": [
    {
     "name": "stdout",
     "output_type": "stream",
     "text": [
      "classification report:\n",
      "               precision    recall  f1-score   support\n",
      "\n",
      "           0       0.78      0.81      0.80       389\n",
      "           1       0.63      0.58      0.61       211\n",
      "\n",
      "    accuracy                           0.73       600\n",
      "   macro avg       0.71      0.70      0.70       600\n",
      "weighted avg       0.73      0.73      0.73       600\n",
      "\n",
      "Accuracy score: 0.7333333333333333\n",
      "Confusion matrix:\n",
      " [[317  72]\n",
      " [ 88 123]]\n"
     ]
    }
   ],
   "source": [
    "from sklearn.metrics import classification_report,accuracy_score,confusion_matrix\n",
    "print('classification report:\\n',classification_report(ytest,ypred_gnb))\n",
    "print('Accuracy score:',accuracy_score(ytest,ypred_gnb))\n",
    "print('Confusion matrix:\\n',confusion_matrix(ytest,ypred_gnb))"
   ]
  },
  {
   "cell_type": "code",
   "execution_count": 24,
   "id": "e163d454",
   "metadata": {},
   "outputs": [
    {
     "data": {
      "text/plain": [
       "array([0, 0, 0, 0, 0, 0, 0, 0, 0, 0, 0, 0, 0, 0, 0, 0, 0, 0, 0, 0, 0, 0,\n",
       "       0, 0, 0, 0, 0, 0, 0, 0, 0, 0, 0, 0, 0, 0, 0, 0, 0, 0, 0, 0, 0, 0,\n",
       "       0, 0, 0, 0, 0, 0, 0, 0, 0, 0, 0, 0, 0, 0, 0, 0, 0, 0, 0, 0, 0, 0,\n",
       "       0, 0, 0, 0, 0, 0, 0, 0, 0, 0, 0, 0, 0, 0, 0, 0, 0, 0, 0, 0, 0, 0,\n",
       "       0, 0, 0, 0, 0, 0, 0, 0, 0, 0, 0, 0, 0, 0, 0, 0, 0, 0, 0, 0, 0, 0,\n",
       "       0, 0, 0, 0, 0, 0, 0, 0, 0, 0, 0, 0, 0, 0, 0, 0, 0, 0, 0, 0, 0, 0,\n",
       "       0, 0, 0, 0, 0, 0, 0, 0, 0, 0, 0, 0, 0, 0, 0, 0, 0, 0, 0, 0, 0, 0,\n",
       "       0, 0, 0, 0, 0, 0, 0, 0, 0, 0, 0, 0, 0, 0, 0, 0, 0, 0, 0, 0, 0, 0,\n",
       "       0, 0, 0, 0, 0, 0, 0, 0, 0, 0, 0, 0, 0, 0, 0, 0, 0, 0, 0, 0, 0, 0,\n",
       "       0, 0, 0, 0, 0, 0, 0, 0, 0, 0, 0, 0, 0, 0, 0, 0, 0, 0, 0, 0, 0, 0,\n",
       "       0, 0, 0, 0, 0, 0, 0, 0, 0, 0, 0, 0, 0, 0, 0, 0, 0, 0, 0, 0, 0, 0,\n",
       "       0, 0, 0, 0, 0, 0, 0, 0, 0, 0, 0, 0, 0, 0, 0, 0, 0, 0, 0, 0, 0, 0,\n",
       "       0, 0, 0, 0, 0, 0, 0, 0, 0, 0, 0, 0, 0, 0, 0, 0, 0, 0, 0, 0, 0, 0,\n",
       "       0, 0, 0, 0, 0, 0, 0, 0, 0, 0, 0, 0, 0, 0, 0, 0, 0, 0, 0, 0, 0, 0,\n",
       "       0, 0, 0, 0, 0, 0, 0, 0, 0, 0, 0, 0, 0, 0, 0, 0, 0, 0, 0, 0, 0, 0,\n",
       "       0, 0, 0, 0, 0, 0, 0, 0, 0, 0, 0, 0, 0, 0, 0, 0, 0, 0, 0, 0, 0, 0,\n",
       "       0, 0, 0, 0, 0, 0, 0, 0, 0, 0, 0, 0, 0, 0, 0, 0, 0, 0, 0, 0, 0, 0,\n",
       "       0, 0, 0, 0, 0, 0, 0, 0, 0, 0, 0, 0, 0, 0, 0, 0, 0, 0, 0, 0, 0, 0,\n",
       "       0, 0, 0, 0, 0, 0, 0, 0, 0, 0, 0, 0, 0, 0, 0, 0, 0, 0, 0, 0, 0, 0,\n",
       "       0, 0, 0, 0, 0, 0, 0, 0, 0, 0, 0, 0, 0, 0, 0, 0, 0, 0, 0, 0, 0, 0,\n",
       "       0, 0, 0, 0, 0, 0, 0, 0, 0, 0, 0, 0, 0, 0, 0, 0, 0, 0, 0, 0, 0, 0,\n",
       "       0, 0, 0, 0, 0, 0, 0, 0, 0, 0, 0, 0, 0, 0, 0, 0, 0, 0, 0, 0, 0, 0,\n",
       "       0, 0, 0, 0, 0, 0, 0, 0, 0, 0, 0, 0, 0, 0, 0, 0, 0, 0, 0, 0, 0, 0,\n",
       "       0, 0, 0, 0, 0, 0, 0, 0, 0, 0, 0, 0, 0, 0, 0, 0, 0, 0, 0, 0, 0, 0,\n",
       "       0, 0, 0, 0, 0, 0, 0, 0, 0, 0, 0, 0, 0, 0, 0, 0, 0, 0, 0, 0, 0, 0,\n",
       "       0, 0, 0, 0, 0, 0, 0, 0, 0, 0, 0, 0, 0, 0, 0, 0, 0, 0, 0, 0, 0, 0,\n",
       "       0, 0, 0, 0, 0, 0, 0, 0, 0, 0, 0, 0, 0, 0, 0, 0, 0, 0, 0, 0, 0, 0,\n",
       "       0, 0, 0, 0, 0, 0], dtype=int64)"
      ]
     },
     "execution_count": 24,
     "metadata": {},
     "output_type": "execute_result"
    }
   ],
   "source": [
    "from sklearn.naive_bayes import MultinomialNB\n",
    "mnb=MultinomialNB()\n",
    "mnb.fit(xtrain,ytrain)\n",
    "ypred_mnb=mnb.predict(xtest)\n",
    "ypred_mnb"
   ]
  },
  {
   "cell_type": "code",
   "execution_count": 25,
   "id": "3be0f4c9",
   "metadata": {},
   "outputs": [
    {
     "name": "stdout",
     "output_type": "stream",
     "text": [
      "classification report:\n",
      "               precision    recall  f1-score   support\n",
      "\n",
      "           0       0.65      1.00      0.79       389\n",
      "           1       0.00      0.00      0.00       211\n",
      "\n",
      "    accuracy                           0.65       600\n",
      "   macro avg       0.32      0.50      0.39       600\n",
      "weighted avg       0.42      0.65      0.51       600\n",
      "\n",
      "Accuracy score: 0.6483333333333333\n",
      "Confusion matrix:\n",
      " [[389   0]\n",
      " [211   0]]\n"
     ]
    }
   ],
   "source": [
    "from sklearn.metrics import classification_report,accuracy_score,confusion_matrix\n",
    "print('classification report:\\n',classification_report(ytest,ypred_mnb))\n",
    "print('Accuracy score:',accuracy_score(ytest,ypred_mnb))\n",
    "print('Confusion matrix:\\n',confusion_matrix(ytest,ypred_mnb))"
   ]
  },
  {
   "cell_type": "code",
   "execution_count": 26,
   "id": "b91f22a3",
   "metadata": {},
   "outputs": [
    {
     "data": {
      "text/plain": [
       "array([0, 0, 0, 0, 0, 0, 0, 0, 0, 0, 0, 0, 0, 0, 0, 0, 0, 0, 0, 0, 0, 0,\n",
       "       0, 0, 0, 0, 0, 0, 0, 0, 0, 0, 0, 0, 0, 0, 0, 0, 0, 0, 0, 0, 0, 0,\n",
       "       0, 0, 0, 0, 0, 0, 0, 0, 0, 0, 0, 0, 0, 0, 0, 0, 0, 0, 0, 0, 0, 0,\n",
       "       0, 0, 0, 0, 0, 0, 0, 0, 0, 0, 0, 0, 0, 0, 0, 0, 0, 0, 0, 0, 0, 0,\n",
       "       0, 0, 0, 0, 0, 0, 0, 0, 0, 0, 0, 0, 0, 0, 0, 0, 0, 0, 0, 0, 0, 0,\n",
       "       0, 0, 0, 0, 0, 0, 0, 0, 0, 0, 0, 0, 0, 0, 0, 0, 0, 0, 0, 0, 0, 0,\n",
       "       0, 0, 0, 0, 0, 0, 0, 0, 0, 0, 0, 0, 0, 0, 0, 0, 0, 0, 0, 0, 0, 0,\n",
       "       0, 0, 0, 0, 0, 0, 0, 0, 0, 0, 0, 0, 0, 0, 0, 0, 0, 0, 0, 0, 0, 0,\n",
       "       0, 0, 0, 0, 0, 0, 0, 0, 0, 0, 0, 0, 0, 0, 0, 0, 0, 0, 0, 0, 0, 0,\n",
       "       0, 0, 0, 0, 0, 0, 0, 0, 0, 0, 0, 0, 0, 0, 0, 0, 0, 0, 0, 0, 1, 0,\n",
       "       0, 0, 0, 0, 0, 0, 0, 0, 0, 0, 0, 0, 0, 0, 0, 0, 0, 0, 0, 0, 0, 0,\n",
       "       0, 0, 0, 0, 0, 0, 0, 0, 0, 0, 0, 0, 0, 0, 0, 0, 0, 0, 0, 0, 0, 0,\n",
       "       0, 0, 0, 0, 0, 0, 0, 0, 0, 0, 0, 0, 0, 0, 0, 0, 0, 0, 0, 0, 0, 0,\n",
       "       0, 0, 0, 0, 0, 0, 0, 0, 0, 0, 0, 0, 0, 0, 0, 0, 0, 0, 0, 0, 0, 0,\n",
       "       0, 0, 0, 0, 0, 0, 0, 0, 0, 0, 0, 0, 0, 0, 0, 0, 0, 0, 0, 0, 0, 0,\n",
       "       0, 1, 0, 0, 0, 0, 0, 0, 0, 0, 0, 0, 0, 0, 0, 0, 0, 0, 0, 0, 0, 0,\n",
       "       0, 0, 0, 0, 0, 0, 1, 0, 0, 0, 0, 1, 0, 0, 0, 0, 0, 0, 0, 0, 0, 0,\n",
       "       0, 0, 0, 0, 0, 0, 0, 0, 0, 0, 0, 0, 0, 0, 0, 0, 0, 0, 0, 0, 0, 0,\n",
       "       0, 0, 0, 0, 0, 0, 0, 0, 0, 0, 0, 0, 0, 0, 0, 0, 0, 0, 0, 0, 0, 0,\n",
       "       0, 0, 1, 0, 0, 0, 0, 0, 0, 0, 0, 0, 0, 0, 0, 0, 0, 0, 0, 0, 0, 0,\n",
       "       0, 0, 0, 0, 0, 1, 0, 0, 0, 0, 0, 0, 0, 0, 0, 0, 0, 0, 0, 0, 0, 0,\n",
       "       0, 0, 0, 0, 0, 0, 0, 0, 0, 0, 0, 0, 0, 0, 0, 0, 0, 0, 0, 0, 0, 0,\n",
       "       0, 0, 0, 0, 0, 0, 0, 0, 0, 0, 1, 0, 0, 0, 0, 0, 0, 0, 0, 0, 0, 0,\n",
       "       0, 0, 0, 0, 0, 0, 0, 0, 0, 0, 0, 0, 0, 0, 0, 0, 0, 0, 0, 0, 0, 0,\n",
       "       0, 0, 0, 0, 0, 0, 0, 0, 0, 0, 0, 0, 0, 0, 0, 0, 0, 0, 0, 0, 0, 0,\n",
       "       0, 0, 0, 0, 0, 0, 0, 0, 0, 0, 0, 0, 0, 0, 0, 0, 0, 0, 0, 0, 0, 0,\n",
       "       0, 0, 0, 0, 0, 0, 0, 0, 0, 0, 0, 0, 0, 0, 0, 0, 0, 0, 0, 0, 0, 0,\n",
       "       0, 1, 0, 0, 0, 0], dtype=int64)"
      ]
     },
     "execution_count": 26,
     "metadata": {},
     "output_type": "execute_result"
    }
   ],
   "source": [
    "from sklearn.naive_bayes import BernoulliNB\n",
    "bnb=BernoulliNB()\n",
    "bnb.fit(xtrain,ytrain)\n",
    "ypred_bnb=bnb.predict(xtest)\n",
    "ypred_bnb"
   ]
  },
  {
   "cell_type": "code",
   "execution_count": 27,
   "id": "fe5d0e7a",
   "metadata": {},
   "outputs": [
    {
     "name": "stdout",
     "output_type": "stream",
     "text": [
      "classification report:\n",
      "               precision    recall  f1-score   support\n",
      "\n",
      "           0       0.65      0.99      0.79       389\n",
      "           1       0.75      0.03      0.05       211\n",
      "\n",
      "    accuracy                           0.66       600\n",
      "   macro avg       0.70      0.51      0.42       600\n",
      "weighted avg       0.69      0.66      0.53       600\n",
      "\n",
      "Accuracy score: 0.655\n",
      "Confusion matrix:\n",
      " [[387   2]\n",
      " [205   6]]\n"
     ]
    }
   ],
   "source": [
    "from sklearn.metrics import classification_report,accuracy_score,confusion_matrix\n",
    "print('classification report:\\n',classification_report(ytest,ypred_bnb))\n",
    "print('Accuracy score:',accuracy_score(ytest,ypred_bnb))\n",
    "print('Confusion matrix:\\n',confusion_matrix(ytest,ypred_bnb))"
   ]
  },
  {
   "cell_type": "markdown",
   "id": "ed37d0e5",
   "metadata": {},
   "source": [
    "## Decision Tree"
   ]
  },
  {
   "cell_type": "code",
   "execution_count": 28,
   "id": "06993954",
   "metadata": {},
   "outputs": [
    {
     "data": {
      "text/plain": [
       "array([0, 1, 0, 0, 0, 0, 1, 0, 1, 0, 1, 0, 0, 0, 1, 1, 0, 1, 1, 0, 0, 0,\n",
       "       0, 0, 0, 0, 1, 0, 1, 0, 0, 0, 1, 0, 1, 1, 0, 1, 0, 1, 1, 0, 0, 0,\n",
       "       0, 1, 1, 0, 1, 1, 1, 0, 0, 0, 0, 1, 0, 0, 1, 0, 0, 1, 0, 0, 0, 0,\n",
       "       0, 0, 0, 0, 1, 1, 0, 0, 0, 0, 0, 1, 1, 0, 0, 0, 1, 1, 0, 1, 0, 0,\n",
       "       0, 0, 1, 1, 0, 1, 0, 0, 0, 1, 1, 0, 0, 0, 0, 0, 0, 0, 0, 0, 1, 0,\n",
       "       0, 0, 0, 0, 1, 0, 0, 1, 0, 1, 1, 0, 0, 1, 0, 0, 0, 0, 1, 0, 0, 0,\n",
       "       0, 0, 1, 0, 1, 0, 0, 0, 0, 0, 1, 0, 0, 0, 0, 0, 0, 0, 0, 0, 0, 0,\n",
       "       1, 1, 0, 0, 0, 0, 0, 1, 1, 0, 1, 0, 0, 0, 1, 0, 0, 0, 0, 0, 1, 0,\n",
       "       0, 0, 1, 1, 1, 0, 1, 1, 0, 0, 1, 0, 0, 1, 0, 1, 0, 1, 0, 0, 0, 0,\n",
       "       1, 1, 0, 1, 0, 0, 0, 0, 0, 0, 0, 0, 0, 1, 0, 0, 0, 0, 0, 0, 1, 1,\n",
       "       1, 0, 0, 1, 0, 0, 0, 0, 0, 1, 0, 0, 0, 0, 0, 0, 0, 0, 0, 0, 0, 1,\n",
       "       1, 0, 0, 0, 0, 0, 0, 0, 1, 1, 0, 0, 1, 0, 0, 0, 0, 0, 1, 1, 0, 0,\n",
       "       0, 1, 0, 0, 0, 0, 0, 0, 1, 0, 1, 1, 0, 0, 1, 0, 0, 0, 0, 1, 1, 1,\n",
       "       1, 0, 0, 0, 1, 0, 1, 0, 0, 1, 0, 1, 1, 1, 0, 0, 1, 0, 0, 0, 0, 1,\n",
       "       0, 1, 1, 0, 0, 0, 1, 1, 0, 0, 0, 0, 0, 0, 1, 0, 0, 0, 1, 0, 1, 0,\n",
       "       0, 1, 1, 0, 0, 0, 1, 1, 0, 1, 1, 1, 0, 0, 1, 1, 0, 1, 1, 0, 0, 1,\n",
       "       0, 0, 1, 0, 1, 0, 1, 1, 0, 0, 0, 1, 1, 1, 1, 1, 0, 0, 1, 0, 1, 0,\n",
       "       0, 0, 1, 1, 0, 1, 1, 0, 1, 0, 1, 0, 0, 0, 0, 0, 0, 1, 0, 0, 1, 0,\n",
       "       0, 0, 1, 1, 1, 0, 1, 0, 0, 0, 0, 0, 0, 0, 1, 0, 1, 1, 0, 0, 0, 0,\n",
       "       0, 1, 1, 1, 0, 0, 1, 0, 0, 0, 0, 0, 1, 1, 0, 0, 1, 0, 1, 0, 0, 0,\n",
       "       0, 0, 1, 0, 0, 0, 1, 0, 0, 0, 1, 0, 0, 1, 0, 0, 0, 0, 0, 1, 0, 1,\n",
       "       0, 1, 0, 0, 0, 1, 0, 1, 0, 0, 1, 0, 0, 1, 0, 0, 1, 0, 1, 1, 1, 0,\n",
       "       0, 0, 0, 0, 0, 0, 1, 0, 1, 0, 1, 1, 0, 1, 0, 0, 0, 0, 0, 0, 1, 1,\n",
       "       1, 0, 0, 1, 1, 0, 0, 0, 0, 0, 0, 0, 0, 1, 1, 0, 0, 0, 0, 0, 1, 1,\n",
       "       1, 0, 1, 0, 1, 0, 0, 1, 1, 0, 0, 1, 1, 0, 1, 0, 0, 0, 1, 0, 0, 0,\n",
       "       0, 1, 0, 0, 1, 1, 1, 0, 0, 0, 0, 0, 0, 0, 0, 0, 1, 1, 0, 0, 1, 1,\n",
       "       0, 0, 0, 0, 1, 0, 0, 1, 1, 0, 1, 0, 0, 0, 0, 1, 1, 0, 0, 0, 0, 0,\n",
       "       1, 0, 0, 0, 0, 0], dtype=int64)"
      ]
     },
     "execution_count": 28,
     "metadata": {},
     "output_type": "execute_result"
    }
   ],
   "source": [
    "from sklearn.tree import DecisionTreeClassifier\n",
    "dtc=DecisionTreeClassifier(criterion='entropy')\n",
    "dtc.fit(xtrain,ytrain)\n",
    "ypred_dtc=dtc.predict(xtest)\n",
    "ypred_dtc"
   ]
  },
  {
   "cell_type": "code",
   "execution_count": 29,
   "id": "b8a32f0c",
   "metadata": {},
   "outputs": [
    {
     "name": "stdout",
     "output_type": "stream",
     "text": [
      "classification report:\n",
      "               precision    recall  f1-score   support\n",
      "\n",
      "           0       0.94      0.97      0.96       389\n",
      "           1       0.94      0.90      0.92       211\n",
      "\n",
      "    accuracy                           0.94       600\n",
      "   macro avg       0.94      0.93      0.94       600\n",
      "weighted avg       0.94      0.94      0.94       600\n",
      "\n",
      "Accuracy score: 0.9433333333333334\n",
      "Confusion matrix:\n",
      " [[377  12]\n",
      " [ 22 189]]\n"
     ]
    }
   ],
   "source": [
    "from sklearn.metrics import classification_report,accuracy_score,confusion_matrix\n",
    "print('classification report:\\n',classification_report(ytest,ypred_dtc))\n",
    "print('Accuracy score:',accuracy_score(ytest,ypred_dtc))\n",
    "print('Confusion matrix:\\n',confusion_matrix(ytest,ypred_dtc))"
   ]
  },
  {
   "cell_type": "code",
   "execution_count": 30,
   "id": "8d3bea29",
   "metadata": {},
   "outputs": [],
   "source": [
    "fn=(['Pregnancies', 'Glucose', 'BloodPressure', 'SkinThickness', 'Insulin',\n",
    "       'BMI', 'DiabetesPedigreeFunction', 'Age'])"
   ]
  },
  {
   "cell_type": "code",
   "execution_count": 31,
   "id": "2f297fac",
   "metadata": {},
   "outputs": [],
   "source": [
    "cn=['0','1']"
   ]
  },
  {
   "cell_type": "code",
   "execution_count": 32,
   "id": "73fd09a5",
   "metadata": {},
   "outputs": [
    {
     "data": {
      "text/plain": [
       "[Text(0.36746651785714285, 0.9736842105263158, 'X[1] <= 0.621\\nentropy = 0.923\\nsamples = 1400\\nvalue = [927, 473]'),\n",
       " Text(0.09789540816326531, 0.9210526315789473, 'X[5] <= 0.328\\nentropy = 0.629\\nsamples = 812\\nvalue = [684, 128]'),\n",
       " Text(0.029336734693877552, 0.868421052631579, 'X[0] <= 0.559\\nentropy = 0.074\\nsamples = 224\\nvalue = [222, 2]'),\n",
       " Text(0.01913265306122449, 0.8157894736842105, 'entropy = 0.0\\nsamples = 217\\nvalue = [217, 0]'),\n",
       " Text(0.039540816326530615, 0.8157894736842105, 'X[2] <= 0.254\\nentropy = 0.863\\nsamples = 7\\nvalue = [5, 2]'),\n",
       " Text(0.029336734693877552, 0.7631578947368421, 'entropy = 0.0\\nsamples = 2\\nvalue = [0, 2]'),\n",
       " Text(0.04974489795918367, 0.7631578947368421, 'entropy = 0.0\\nsamples = 5\\nvalue = [5, 0]'),\n",
       " Text(0.16645408163265307, 0.868421052631579, 'X[7] <= 0.175\\nentropy = 0.75\\nsamples = 588\\nvalue = [462, 126]'),\n",
       " Text(0.09056122448979592, 0.8157894736842105, 'X[5] <= 0.563\\nentropy = 0.52\\nsamples = 360\\nvalue = [318, 42]'),\n",
       " Text(0.07015306122448979, 0.7631578947368421, 'X[0] <= 0.382\\nentropy = 0.463\\nsamples = 347\\nvalue = [313, 34]'),\n",
       " Text(0.05994897959183673, 0.7105263157894737, 'X[5] <= 0.39\\nentropy = 0.428\\nsamples = 343\\nvalue = [313, 30]'),\n",
       " Text(0.02040816326530612, 0.6578947368421053, 'X[7] <= 0.142\\nentropy = 0.068\\nsamples = 123\\nvalue = [122, 1]'),\n",
       " Text(0.01020408163265306, 0.6052631578947368, 'entropy = 0.0\\nsamples = 115\\nvalue = [115, 0]'),\n",
       " Text(0.030612244897959183, 0.6052631578947368, 'X[3] <= 0.055\\nentropy = 0.544\\nsamples = 8\\nvalue = [7, 1]'),\n",
       " Text(0.02040816326530612, 0.5526315789473685, 'entropy = 0.0\\nsamples = 5\\nvalue = [5, 0]'),\n",
       " Text(0.04081632653061224, 0.5526315789473685, 'X[0] <= 0.206\\nentropy = 0.918\\nsamples = 3\\nvalue = [2, 1]'),\n",
       " Text(0.030612244897959183, 0.5, 'entropy = 0.0\\nsamples = 2\\nvalue = [2, 0]'),\n",
       " Text(0.05102040816326531, 0.5, 'entropy = 0.0\\nsamples = 1\\nvalue = [0, 1]'),\n",
       " Text(0.09948979591836735, 0.6578947368421053, 'X[2] <= 0.18\\nentropy = 0.562\\nsamples = 220\\nvalue = [191, 29]'),\n",
       " Text(0.08928571428571429, 0.6052631578947368, 'entropy = 0.0\\nsamples = 3\\nvalue = [0, 3]'),\n",
       " Text(0.1096938775510204, 0.6052631578947368, 'X[6] <= 0.25\\nentropy = 0.529\\nsamples = 217\\nvalue = [191, 26]'),\n",
       " Text(0.08163265306122448, 0.5526315789473685, 'X[4] <= 0.087\\nentropy = 0.401\\nsamples = 176\\nvalue = [162, 14]'),\n",
       " Text(0.07142857142857142, 0.5, 'X[1] <= 0.445\\nentropy = 0.674\\nsamples = 79\\nvalue = [65, 14]'),\n",
       " Text(0.061224489795918366, 0.4473684210526316, 'entropy = 0.0\\nsamples = 26\\nvalue = [26, 0]'),\n",
       " Text(0.08163265306122448, 0.4473684210526316, 'X[0] <= 0.206\\nentropy = 0.833\\nsamples = 53\\nvalue = [39, 14]'),\n",
       " Text(0.061224489795918366, 0.39473684210526316, 'X[5] <= 0.476\\nentropy = 0.935\\nsamples = 37\\nvalue = [24, 13]'),\n",
       " Text(0.05102040816326531, 0.34210526315789475, 'X[0] <= 0.147\\nentropy = 0.974\\nsamples = 32\\nvalue = [19, 13]'),\n",
       " Text(0.04081632653061224, 0.2894736842105263, 'X[6] <= 0.066\\nentropy = 0.906\\nsamples = 28\\nvalue = [19, 9]'),\n",
       " Text(0.030612244897959183, 0.23684210526315788, 'entropy = 0.0\\nsamples = 9\\nvalue = [9, 0]'),\n",
       " Text(0.05102040816326531, 0.23684210526315788, 'X[2] <= 0.508\\nentropy = 0.998\\nsamples = 19\\nvalue = [10, 9]'),\n",
       " Text(0.04081632653061224, 0.18421052631578946, 'entropy = 0.0\\nsamples = 6\\nvalue = [6, 0]'),\n",
       " Text(0.061224489795918366, 0.18421052631578946, 'X[7] <= 0.075\\nentropy = 0.89\\nsamples = 13\\nvalue = [4, 9]'),\n",
       " Text(0.05102040816326531, 0.13157894736842105, 'entropy = 0.0\\nsamples = 7\\nvalue = [0, 7]'),\n",
       " Text(0.07142857142857142, 0.13157894736842105, 'X[5] <= 0.465\\nentropy = 0.918\\nsamples = 6\\nvalue = [4, 2]'),\n",
       " Text(0.061224489795918366, 0.07894736842105263, 'entropy = 0.0\\nsamples = 4\\nvalue = [4, 0]'),\n",
       " Text(0.08163265306122448, 0.07894736842105263, 'entropy = 0.0\\nsamples = 2\\nvalue = [0, 2]'),\n",
       " Text(0.061224489795918366, 0.2894736842105263, 'entropy = 0.0\\nsamples = 4\\nvalue = [0, 4]'),\n",
       " Text(0.07142857142857142, 0.34210526315789475, 'entropy = 0.0\\nsamples = 5\\nvalue = [5, 0]'),\n",
       " Text(0.10204081632653061, 0.39473684210526316, 'X[7] <= 0.15\\nentropy = 0.337\\nsamples = 16\\nvalue = [15, 1]'),\n",
       " Text(0.09183673469387756, 0.34210526315789475, 'entropy = 0.0\\nsamples = 15\\nvalue = [15, 0]'),\n",
       " Text(0.11224489795918367, 0.34210526315789475, 'entropy = 0.0\\nsamples = 1\\nvalue = [0, 1]'),\n",
       " Text(0.09183673469387756, 0.5, 'entropy = 0.0\\nsamples = 97\\nvalue = [97, 0]'),\n",
       " Text(0.1377551020408163, 0.5526315789473685, 'X[4] <= 0.091\\nentropy = 0.872\\nsamples = 41\\nvalue = [29, 12]'),\n",
       " Text(0.11224489795918367, 0.5, 'X[7] <= 0.017\\nentropy = 0.267\\nsamples = 22\\nvalue = [21, 1]'),\n",
       " Text(0.10204081632653061, 0.4473684210526316, 'entropy = 0.0\\nsamples = 1\\nvalue = [0, 1]'),\n",
       " Text(0.12244897959183673, 0.4473684210526316, 'entropy = 0.0\\nsamples = 21\\nvalue = [21, 0]'),\n",
       " Text(0.16326530612244897, 0.5, 'X[1] <= 0.55\\nentropy = 0.982\\nsamples = 19\\nvalue = [8, 11]'),\n",
       " Text(0.14285714285714285, 0.4473684210526316, 'X[5] <= 0.4\\nentropy = 0.65\\nsamples = 12\\nvalue = [2, 10]'),\n",
       " Text(0.1326530612244898, 0.39473684210526316, 'entropy = 0.0\\nsamples = 2\\nvalue = [2, 0]'),\n",
       " Text(0.15306122448979592, 0.39473684210526316, 'entropy = 0.0\\nsamples = 10\\nvalue = [0, 10]'),\n",
       " Text(0.1836734693877551, 0.4473684210526316, 'X[6] <= 0.263\\nentropy = 0.592\\nsamples = 7\\nvalue = [6, 1]'),\n",
       " Text(0.17346938775510204, 0.39473684210526316, 'entropy = 0.0\\nsamples = 1\\nvalue = [0, 1]'),\n",
       " Text(0.19387755102040816, 0.39473684210526316, 'entropy = 0.0\\nsamples = 6\\nvalue = [6, 0]'),\n",
       " Text(0.08035714285714286, 0.7105263157894737, 'entropy = 0.0\\nsamples = 4\\nvalue = [0, 4]'),\n",
       " Text(0.11096938775510204, 0.7631578947368421, 'X[6] <= 0.327\\nentropy = 0.961\\nsamples = 13\\nvalue = [5, 8]'),\n",
       " Text(0.10076530612244898, 0.7105263157894737, 'entropy = 0.0\\nsamples = 8\\nvalue = [0, 8]'),\n",
       " Text(0.1211734693877551, 0.7105263157894737, 'entropy = 0.0\\nsamples = 5\\nvalue = [5, 0]'),\n",
       " Text(0.2423469387755102, 0.8157894736842105, 'X[1] <= 0.485\\nentropy = 0.949\\nsamples = 228\\nvalue = [144, 84]'),\n",
       " Text(0.19387755102040816, 0.7631578947368421, 'X[4] <= 0.206\\nentropy = 0.617\\nsamples = 85\\nvalue = [72, 13]'),\n",
       " Text(0.1836734693877551, 0.7105263157894737, 'X[1] <= 0.143\\nentropy = 0.503\\nsamples = 81\\nvalue = [72, 9]'),\n",
       " Text(0.17346938775510204, 0.6578947368421053, 'entropy = 0.0\\nsamples = 4\\nvalue = [0, 4]'),\n",
       " Text(0.19387755102040816, 0.6578947368421053, 'X[0] <= 0.559\\nentropy = 0.347\\nsamples = 77\\nvalue = [72, 5]'),\n",
       " Text(0.17346938775510204, 0.6052631578947368, 'X[6] <= 0.462\\nentropy = 0.116\\nsamples = 64\\nvalue = [63, 1]'),\n",
       " Text(0.16326530612244897, 0.5526315789473685, 'entropy = 0.0\\nsamples = 63\\nvalue = [63, 0]'),\n",
       " Text(0.1836734693877551, 0.5526315789473685, 'entropy = 0.0\\nsamples = 1\\nvalue = [0, 1]'),\n",
       " Text(0.21428571428571427, 0.6052631578947368, 'X[3] <= 0.245\\nentropy = 0.89\\nsamples = 13\\nvalue = [9, 4]'),\n",
       " Text(0.20408163265306123, 0.5526315789473685, 'entropy = 0.0\\nsamples = 7\\nvalue = [7, 0]'),\n",
       " Text(0.22448979591836735, 0.5526315789473685, 'X[5] <= 0.435\\nentropy = 0.918\\nsamples = 6\\nvalue = [2, 4]'),\n",
       " Text(0.21428571428571427, 0.5, 'entropy = 0.0\\nsamples = 4\\nvalue = [0, 4]'),\n",
       " Text(0.23469387755102042, 0.5, 'entropy = 0.0\\nsamples = 2\\nvalue = [2, 0]'),\n",
       " Text(0.20408163265306123, 0.7105263157894737, 'entropy = 0.0\\nsamples = 4\\nvalue = [0, 4]'),\n",
       " Text(0.29081632653061223, 0.7631578947368421, 'X[6] <= 0.044\\nentropy = 1.0\\nsamples = 143\\nvalue = [72, 71]'),\n",
       " Text(0.2653061224489796, 0.7105263157894737, 'X[5] <= 0.349\\nentropy = 0.353\\nsamples = 15\\nvalue = [14, 1]'),\n",
       " Text(0.25510204081632654, 0.6578947368421053, 'entropy = 0.0\\nsamples = 1\\nvalue = [0, 1]'),\n",
       " Text(0.2755102040816326, 0.6578947368421053, 'entropy = 0.0\\nsamples = 14\\nvalue = [14, 0]'),\n",
       " Text(0.3163265306122449, 0.7105263157894737, 'X[3] <= 0.359\\nentropy = 0.994\\nsamples = 128\\nvalue = [58, 70]'),\n",
       " Text(0.29591836734693877, 0.6578947368421053, 'X[4] <= 0.251\\nentropy = 0.977\\nsamples = 112\\nvalue = [46, 66]'),\n",
       " Text(0.2857142857142857, 0.6052631578947368, 'X[4] <= 0.177\\nentropy = 0.947\\nsamples = 104\\nvalue = [38, 66]'),\n",
       " Text(0.2653061224489796, 0.5526315789473685, 'X[4] <= 0.132\\nentropy = 0.981\\nsamples = 86\\nvalue = [36, 50]'),\n",
       " Text(0.25510204081632654, 0.5, 'X[6] <= 0.404\\nentropy = 0.948\\nsamples = 79\\nvalue = [29, 50]'),\n",
       " Text(0.24489795918367346, 0.4473684210526316, 'X[2] <= 0.631\\nentropy = 0.976\\nsamples = 71\\nvalue = [29, 42]'),\n",
       " Text(0.21428571428571427, 0.39473684210526316, 'X[5] <= 0.339\\nentropy = 0.863\\nsamples = 49\\nvalue = [14, 35]'),\n",
       " Text(0.20408163265306123, 0.34210526315789475, 'entropy = 0.0\\nsamples = 3\\nvalue = [3, 0]'),\n",
       " Text(0.22448979591836735, 0.34210526315789475, 'X[3] <= 0.123\\nentropy = 0.794\\nsamples = 46\\nvalue = [11, 35]'),\n",
       " Text(0.21428571428571427, 0.2894736842105263, 'X[1] <= 0.508\\nentropy = 0.888\\nsamples = 36\\nvalue = [11, 25]'),\n",
       " Text(0.20408163265306123, 0.23684210526315788, 'entropy = 0.0\\nsamples = 2\\nvalue = [2, 0]'),\n",
       " Text(0.22448979591836735, 0.23684210526315788, 'X[6] <= 0.322\\nentropy = 0.834\\nsamples = 34\\nvalue = [9, 25]'),\n",
       " Text(0.21428571428571427, 0.18421052631578946, 'X[7] <= 0.467\\nentropy = 0.758\\nsamples = 32\\nvalue = [7, 25]'),\n",
       " Text(0.18877551020408162, 0.13157894736842105, 'X[1] <= 0.59\\nentropy = 0.605\\nsamples = 27\\nvalue = [4, 23]'),\n",
       " Text(0.1683673469387755, 0.07894736842105263, 'X[2] <= 0.475\\nentropy = 0.286\\nsamples = 20\\nvalue = [1, 19]'),\n",
       " Text(0.15816326530612246, 0.02631578947368421, 'entropy = 0.0\\nsamples = 1\\nvalue = [1, 0]'),\n",
       " Text(0.17857142857142858, 0.02631578947368421, 'entropy = 0.0\\nsamples = 19\\nvalue = [0, 19]'),\n",
       " Text(0.20918367346938777, 0.07894736842105263, 'X[2] <= 0.533\\nentropy = 0.985\\nsamples = 7\\nvalue = [3, 4]'),\n",
       " Text(0.1989795918367347, 0.02631578947368421, 'entropy = 0.0\\nsamples = 4\\nvalue = [0, 4]'),\n",
       " Text(0.2193877551020408, 0.02631578947368421, 'entropy = 0.0\\nsamples = 3\\nvalue = [3, 0]'),\n",
       " Text(0.23979591836734693, 0.13157894736842105, 'X[6] <= 0.075\\nentropy = 0.971\\nsamples = 5\\nvalue = [3, 2]'),\n",
       " Text(0.22959183673469388, 0.07894736842105263, 'entropy = 0.0\\nsamples = 3\\nvalue = [3, 0]'),\n",
       " Text(0.25, 0.07894736842105263, 'entropy = 0.0\\nsamples = 2\\nvalue = [0, 2]'),\n",
       " Text(0.23469387755102042, 0.18421052631578946, 'entropy = 0.0\\nsamples = 2\\nvalue = [2, 0]'),\n",
       " Text(0.23469387755102042, 0.2894736842105263, 'entropy = 0.0\\nsamples = 10\\nvalue = [0, 10]'),\n",
       " Text(0.2755102040816326, 0.39473684210526316, 'X[1] <= 0.553\\nentropy = 0.902\\nsamples = 22\\nvalue = [15, 7]'),\n",
       " Text(0.2653061224489796, 0.34210526315789475, 'X[5] <= 0.357\\nentropy = 1.0\\nsamples = 14\\nvalue = [7, 7]'),\n",
       " Text(0.25510204081632654, 0.2894736842105263, 'entropy = 0.0\\nsamples = 3\\nvalue = [0, 3]'),\n",
       " Text(0.2755102040816326, 0.2894736842105263, 'X[5] <= 0.533\\nentropy = 0.946\\nsamples = 11\\nvalue = [7, 4]'),\n",
       " Text(0.2653061224489796, 0.23684210526315788, 'X[6] <= 0.33\\nentropy = 0.544\\nsamples = 8\\nvalue = [7, 1]'),\n",
       " Text(0.25510204081632654, 0.18421052631578946, 'entropy = 0.0\\nsamples = 7\\nvalue = [7, 0]'),\n",
       " Text(0.2755102040816326, 0.18421052631578946, 'entropy = 0.0\\nsamples = 1\\nvalue = [0, 1]'),\n",
       " Text(0.2857142857142857, 0.23684210526315788, 'entropy = 0.0\\nsamples = 3\\nvalue = [0, 3]'),\n",
       " Text(0.2857142857142857, 0.34210526315789475, 'entropy = 0.0\\nsamples = 8\\nvalue = [8, 0]'),\n",
       " Text(0.2653061224489796, 0.4473684210526316, 'entropy = 0.0\\nsamples = 8\\nvalue = [0, 8]'),\n",
       " Text(0.2755102040816326, 0.5, 'entropy = 0.0\\nsamples = 7\\nvalue = [7, 0]'),\n",
       " Text(0.30612244897959184, 0.5526315789473685, 'X[1] <= 0.613\\nentropy = 0.503\\nsamples = 18\\nvalue = [2, 16]'),\n",
       " Text(0.29591836734693877, 0.5, 'entropy = 0.0\\nsamples = 16\\nvalue = [0, 16]'),\n",
       " Text(0.3163265306122449, 0.5, 'entropy = 0.0\\nsamples = 2\\nvalue = [2, 0]'),\n",
       " Text(0.30612244897959184, 0.6052631578947368, 'entropy = 0.0\\nsamples = 8\\nvalue = [8, 0]'),\n",
       " Text(0.336734693877551, 0.6578947368421053, 'X[4] <= 0.274\\nentropy = 0.811\\nsamples = 16\\nvalue = [12, 4]'),\n",
       " Text(0.32653061224489793, 0.6052631578947368, 'entropy = 0.0\\nsamples = 11\\nvalue = [11, 0]'),\n",
       " Text(0.3469387755102041, 0.6052631578947368, 'X[4] <= 0.299\\nentropy = 0.722\\nsamples = 5\\nvalue = [1, 4]'),\n",
       " Text(0.336734693877551, 0.5526315789473685, 'entropy = 0.0\\nsamples = 4\\nvalue = [0, 4]'),\n",
       " Text(0.35714285714285715, 0.5526315789473685, 'entropy = 0.0\\nsamples = 1\\nvalue = [1, 0]'),\n",
       " Text(0.6370376275510204, 0.9210526315789473, 'X[5] <= 0.372\\nentropy = 0.978\\nsamples = 588\\nvalue = [243, 345]'),\n",
       " Text(0.42857142857142855, 0.868421052631579, 'X[7] <= 0.092\\nentropy = 0.9\\nsamples = 171\\nvalue = [117, 54]'),\n",
       " Text(0.3877551020408163, 0.8157894736842105, 'X[5] <= 0.357\\nentropy = 0.297\\nsamples = 57\\nvalue = [54, 3]'),\n",
       " Text(0.37755102040816324, 0.7631578947368421, 'X[2] <= 0.451\\nentropy = 0.131\\nsamples = 55\\nvalue = [54, 1]'),\n",
       " Text(0.3673469387755102, 0.7105263157894737, 'X[0] <= 0.118\\nentropy = 0.811\\nsamples = 4\\nvalue = [3, 1]'),\n",
       " Text(0.35714285714285715, 0.6578947368421053, 'entropy = 0.0\\nsamples = 3\\nvalue = [3, 0]'),\n",
       " Text(0.37755102040816324, 0.6578947368421053, 'entropy = 0.0\\nsamples = 1\\nvalue = [0, 1]'),\n",
       " Text(0.3877551020408163, 0.7105263157894737, 'entropy = 0.0\\nsamples = 51\\nvalue = [51, 0]'),\n",
       " Text(0.3979591836734694, 0.7631578947368421, 'entropy = 0.0\\nsamples = 2\\nvalue = [0, 2]'),\n",
       " Text(0.46938775510204084, 0.8157894736842105, 'X[7] <= 0.658\\nentropy = 0.992\\nsamples = 114\\nvalue = [63, 51]'),\n",
       " Text(0.45918367346938777, 0.7631578947368421, 'X[1] <= 0.804\\nentropy = 0.985\\nsamples = 89\\nvalue = [38, 51]'),\n",
       " Text(0.42857142857142855, 0.7105263157894737, 'X[6] <= 0.058\\nentropy = 0.996\\nsamples = 69\\nvalue = [37, 32]'),\n",
       " Text(0.3979591836734694, 0.6578947368421053, 'X[2] <= 0.639\\nentropy = 0.353\\nsamples = 15\\nvalue = [14, 1]'),\n",
       " Text(0.3877551020408163, 0.6052631578947368, 'entropy = 0.0\\nsamples = 12\\nvalue = [12, 0]'),\n",
       " Text(0.40816326530612246, 0.6052631578947368, 'X[6] <= 0.05\\nentropy = 0.918\\nsamples = 3\\nvalue = [2, 1]'),\n",
       " Text(0.3979591836734694, 0.5526315789473685, 'entropy = 0.0\\nsamples = 1\\nvalue = [0, 1]'),\n",
       " Text(0.41836734693877553, 0.5526315789473685, 'entropy = 0.0\\nsamples = 2\\nvalue = [2, 0]'),\n",
       " Text(0.45918367346938777, 0.6578947368421053, 'X[1] <= 0.631\\nentropy = 0.984\\nsamples = 54\\nvalue = [23, 31]'),\n",
       " Text(0.4489795918367347, 0.6052631578947368, 'entropy = 0.0\\nsamples = 13\\nvalue = [0, 13]'),\n",
       " Text(0.46938775510204084, 0.6052631578947368, 'X[5] <= 0.336\\nentropy = 0.989\\nsamples = 41\\nvalue = [23, 18]'),\n",
       " Text(0.4387755102040816, 0.5526315789473685, 'X[7] <= 0.442\\nentropy = 0.722\\nsamples = 15\\nvalue = [3, 12]'),\n",
       " Text(0.42857142857142855, 0.5, 'entropy = 0.0\\nsamples = 8\\nvalue = [0, 8]'),\n",
       " Text(0.4489795918367347, 0.5, 'X[6] <= 0.15\\nentropy = 0.985\\nsamples = 7\\nvalue = [3, 4]'),\n",
       " Text(0.4387755102040816, 0.4473684210526316, 'X[0] <= 0.206\\nentropy = 0.722\\nsamples = 5\\nvalue = [1, 4]'),\n",
       " Text(0.42857142857142855, 0.39473684210526316, 'entropy = 0.0\\nsamples = 1\\nvalue = [1, 0]'),\n",
       " Text(0.4489795918367347, 0.39473684210526316, 'entropy = 0.0\\nsamples = 4\\nvalue = [0, 4]'),\n",
       " Text(0.45918367346938777, 0.4473684210526316, 'entropy = 0.0\\nsamples = 2\\nvalue = [2, 0]'),\n",
       " Text(0.5, 0.5526315789473685, 'X[0] <= 0.206\\nentropy = 0.779\\nsamples = 26\\nvalue = [20, 6]'),\n",
       " Text(0.4897959183673469, 0.5, 'X[4] <= 0.053\\nentropy = 0.971\\nsamples = 10\\nvalue = [4, 6]'),\n",
       " Text(0.47959183673469385, 0.4473684210526316, 'entropy = 0.0\\nsamples = 4\\nvalue = [4, 0]'),\n",
       " Text(0.5, 0.4473684210526316, 'entropy = 0.0\\nsamples = 6\\nvalue = [0, 6]'),\n",
       " Text(0.5102040816326531, 0.5, 'entropy = 0.0\\nsamples = 16\\nvalue = [16, 0]'),\n",
       " Text(0.4897959183673469, 0.7105263157894737, 'X[2] <= 0.77\\nentropy = 0.286\\nsamples = 20\\nvalue = [1, 19]'),\n",
       " Text(0.47959183673469385, 0.6578947368421053, 'entropy = 0.0\\nsamples = 19\\nvalue = [0, 19]'),\n",
       " Text(0.5, 0.6578947368421053, 'entropy = 0.0\\nsamples = 1\\nvalue = [1, 0]'),\n",
       " Text(0.47959183673469385, 0.7631578947368421, 'entropy = 0.0\\nsamples = 25\\nvalue = [25, 0]'),\n",
       " Text(0.8455038265306123, 0.868421052631579, 'X[1] <= 0.791\\nentropy = 0.884\\nsamples = 417\\nvalue = [126, 291]'),\n",
       " Text(0.7394770408163265, 0.8157894736842105, 'X[6] <= 0.187\\nentropy = 0.978\\nsamples = 249\\nvalue = [103, 146]'),\n",
       " Text(0.6779336734693877, 0.7631578947368421, 'X[5] <= 0.519\\nentropy = 0.996\\nsamples = 138\\nvalue = [74, 64]'),\n",
       " Text(0.6211734693877551, 0.7105263157894737, 'X[7] <= 0.35\\nentropy = 0.949\\nsamples = 114\\nvalue = [72, 42]'),\n",
       " Text(0.5586734693877551, 0.6578947368421053, 'X[2] <= 0.484\\nentropy = 0.811\\nsamples = 80\\nvalue = [60, 20]'),\n",
       " Text(0.5306122448979592, 0.6052631578947368, 'X[1] <= 0.656\\nentropy = 0.946\\nsamples = 11\\nvalue = [4, 7]'),\n",
       " Text(0.5204081632653061, 0.5526315789473685, 'entropy = 0.0\\nsamples = 4\\nvalue = [4, 0]'),\n",
       " Text(0.5408163265306123, 0.5526315789473685, 'entropy = 0.0\\nsamples = 7\\nvalue = [0, 7]'),\n",
       " Text(0.5867346938775511, 0.6052631578947368, 'X[3] <= 0.309\\nentropy = 0.698\\nsamples = 69\\nvalue = [56, 13]'),\n",
       " Text(0.5612244897959183, 0.5526315789473685, 'X[3] <= 0.068\\nentropy = 0.426\\nsamples = 46\\nvalue = [42, 4]'),\n",
       " Text(0.5510204081632653, 0.5, 'X[2] <= 0.615\\nentropy = 0.811\\nsamples = 16\\nvalue = [12, 4]'),\n",
       " Text(0.5408163265306123, 0.4473684210526316, 'X[7] <= 0.083\\nentropy = 0.985\\nsamples = 7\\nvalue = [3, 4]'),\n",
       " Text(0.5306122448979592, 0.39473684210526316, 'entropy = 0.0\\nsamples = 3\\nvalue = [3, 0]'),\n",
       " Text(0.5510204081632653, 0.39473684210526316, 'entropy = 0.0\\nsamples = 4\\nvalue = [0, 4]'),\n",
       " Text(0.5612244897959183, 0.4473684210526316, 'entropy = 0.0\\nsamples = 9\\nvalue = [9, 0]'),\n",
       " Text(0.5714285714285714, 0.5, 'entropy = 0.0\\nsamples = 30\\nvalue = [30, 0]'),\n",
       " Text(0.6122448979591837, 0.5526315789473685, 'X[0] <= 0.206\\nentropy = 0.966\\nsamples = 23\\nvalue = [14, 9]'),\n",
       " Text(0.5918367346938775, 0.5, 'X[1] <= 0.668\\nentropy = 0.592\\nsamples = 14\\nvalue = [12, 2]'),\n",
       " Text(0.5816326530612245, 0.4473684210526316, 'entropy = 0.0\\nsamples = 2\\nvalue = [0, 2]'),\n",
       " Text(0.6020408163265306, 0.4473684210526316, 'entropy = 0.0\\nsamples = 12\\nvalue = [12, 0]'),\n",
       " Text(0.6326530612244898, 0.5, 'X[2] <= 0.713\\nentropy = 0.764\\nsamples = 9\\nvalue = [2, 7]'),\n",
       " Text(0.6224489795918368, 0.4473684210526316, 'entropy = 0.0\\nsamples = 7\\nvalue = [0, 7]'),\n",
       " Text(0.6428571428571429, 0.4473684210526316, 'entropy = 0.0\\nsamples = 2\\nvalue = [2, 0]'),\n",
       " Text(0.6836734693877551, 0.6578947368421053, 'X[5] <= 0.463\\nentropy = 0.937\\nsamples = 34\\nvalue = [12, 22]'),\n",
       " Text(0.673469387755102, 0.6052631578947368, 'X[6] <= 0.059\\nentropy = 0.75\\nsamples = 28\\nvalue = [6, 22]'),\n",
       " Text(0.6632653061224489, 0.5526315789473685, 'X[2] <= 0.631\\nentropy = 0.996\\nsamples = 13\\nvalue = [6, 7]'),\n",
       " Text(0.6530612244897959, 0.5, 'entropy = 0.0\\nsamples = 5\\nvalue = [0, 5]'),\n",
       " Text(0.673469387755102, 0.5, 'X[5] <= 0.38\\nentropy = 0.811\\nsamples = 8\\nvalue = [6, 2]'),\n",
       " Text(0.6632653061224489, 0.4473684210526316, 'entropy = 0.0\\nsamples = 2\\nvalue = [0, 2]'),\n",
       " Text(0.6836734693877551, 0.4473684210526316, 'entropy = 0.0\\nsamples = 6\\nvalue = [6, 0]'),\n",
       " Text(0.6836734693877551, 0.5526315789473685, 'entropy = 0.0\\nsamples = 15\\nvalue = [0, 15]'),\n",
       " Text(0.6938775510204082, 0.6052631578947368, 'entropy = 0.0\\nsamples = 6\\nvalue = [6, 0]'),\n",
       " Text(0.7346938775510204, 0.7105263157894737, 'X[3] <= 0.455\\nentropy = 0.414\\nsamples = 24\\nvalue = [2, 22]'),\n",
       " Text(0.7244897959183674, 0.6578947368421053, 'X[6] <= 0.051\\nentropy = 0.258\\nsamples = 23\\nvalue = [1, 22]'),\n",
       " Text(0.7142857142857143, 0.6052631578947368, 'entropy = 0.0\\nsamples = 1\\nvalue = [1, 0]'),\n",
       " Text(0.7346938775510204, 0.6052631578947368, 'entropy = 0.0\\nsamples = 22\\nvalue = [0, 22]'),\n",
       " Text(0.7448979591836735, 0.6578947368421053, 'entropy = 0.0\\nsamples = 1\\nvalue = [1, 0]'),\n",
       " Text(0.8010204081632653, 0.7631578947368421, 'X[7] <= 0.142\\nentropy = 0.829\\nsamples = 111\\nvalue = [29, 82]'),\n",
       " Text(0.7755102040816326, 0.7105263157894737, 'X[1] <= 0.716\\nentropy = 1.0\\nsamples = 44\\nvalue = [22, 22]'),\n",
       " Text(0.7653061224489796, 0.6578947368421053, 'X[4] <= 0.272\\nentropy = 0.918\\nsamples = 33\\nvalue = [11, 22]'),\n",
       " Text(0.7551020408163265, 0.6052631578947368, 'X[2] <= 0.713\\nentropy = 0.797\\nsamples = 29\\nvalue = [7, 22]'),\n",
       " Text(0.7448979591836735, 0.5526315789473685, 'X[4] <= 0.087\\nentropy = 0.619\\nsamples = 26\\nvalue = [4, 22]'),\n",
       " Text(0.7346938775510204, 0.5, 'X[0] <= 0.147\\nentropy = 0.918\\nsamples = 12\\nvalue = [4, 8]'),\n",
       " Text(0.7244897959183674, 0.4473684210526316, 'X[2] <= 0.262\\nentropy = 0.722\\nsamples = 5\\nvalue = [4, 1]'),\n",
       " Text(0.7142857142857143, 0.39473684210526316, 'entropy = 0.0\\nsamples = 1\\nvalue = [0, 1]'),\n",
       " Text(0.7346938775510204, 0.39473684210526316, 'entropy = 0.0\\nsamples = 4\\nvalue = [4, 0]'),\n",
       " Text(0.7448979591836735, 0.4473684210526316, 'entropy = 0.0\\nsamples = 7\\nvalue = [0, 7]'),\n",
       " Text(0.7551020408163265, 0.5, 'entropy = 0.0\\nsamples = 14\\nvalue = [0, 14]'),\n",
       " Text(0.7653061224489796, 0.5526315789473685, 'entropy = 0.0\\nsamples = 3\\nvalue = [3, 0]'),\n",
       " Text(0.7755102040816326, 0.6052631578947368, 'entropy = 0.0\\nsamples = 4\\nvalue = [4, 0]'),\n",
       " Text(0.7857142857142857, 0.6578947368421053, 'entropy = 0.0\\nsamples = 11\\nvalue = [11, 0]'),\n",
       " Text(0.826530612244898, 0.7105263157894737, 'X[4] <= 0.699\\nentropy = 0.483\\nsamples = 67\\nvalue = [7, 60]'),\n",
       " Text(0.8163265306122449, 0.6578947368421053, 'X[5] <= 0.497\\nentropy = 0.391\\nsamples = 65\\nvalue = [5, 60]'),\n",
       " Text(0.7959183673469388, 0.6052631578947368, 'X[4] <= 0.448\\nentropy = 0.141\\nsamples = 50\\nvalue = [1, 49]'),\n",
       " Text(0.7857142857142857, 0.5526315789473685, 'entropy = 0.0\\nsamples = 47\\nvalue = [0, 47]'),\n",
       " Text(0.8061224489795918, 0.5526315789473685, 'X[1] <= 0.766\\nentropy = 0.918\\nsamples = 3\\nvalue = [1, 2]'),\n",
       " Text(0.7959183673469388, 0.5, 'entropy = 0.0\\nsamples = 1\\nvalue = [1, 0]'),\n",
       " Text(0.8163265306122449, 0.5, 'entropy = 0.0\\nsamples = 2\\nvalue = [0, 2]'),\n",
       " Text(0.8367346938775511, 0.6052631578947368, 'X[5] <= 0.511\\nentropy = 0.837\\nsamples = 15\\nvalue = [4, 11]'),\n",
       " Text(0.826530612244898, 0.5526315789473685, 'entropy = 0.0\\nsamples = 4\\nvalue = [4, 0]'),\n",
       " Text(0.8469387755102041, 0.5526315789473685, 'entropy = 0.0\\nsamples = 11\\nvalue = [0, 11]'),\n",
       " Text(0.8367346938775511, 0.6578947368421053, 'entropy = 0.0\\nsamples = 2\\nvalue = [2, 0]'),\n",
       " Text(0.951530612244898, 0.8157894736842105, 'X[5] <= 0.572\\nentropy = 0.576\\nsamples = 168\\nvalue = [23, 145]'),\n",
       " Text(0.923469387755102, 0.7631578947368421, 'X[3] <= 0.241\\nentropy = 0.485\\nsamples = 152\\nvalue = [16, 136]'),\n",
       " Text(0.8979591836734694, 0.7105263157894737, 'X[6] <= 0.539\\nentropy = 0.722\\nsamples = 60\\nvalue = [12, 48]'),\n",
       " Text(0.8877551020408163, 0.6578947368421053, 'X[2] <= 0.582\\nentropy = 0.629\\nsamples = 57\\nvalue = [9, 48]'),\n",
       " Text(0.8775510204081632, 0.6052631578947368, 'X[3] <= 0.205\\nentropy = 0.966\\nsamples = 23\\nvalue = [9, 14]'),\n",
       " Text(0.8673469387755102, 0.5526315789473685, 'X[6] <= 0.101\\nentropy = 0.831\\nsamples = 19\\nvalue = [5, 14]'),\n",
       " Text(0.8571428571428571, 0.5, 'X[7] <= 0.3\\nentropy = 0.994\\nsamples = 11\\nvalue = [5, 6]'),\n",
       " Text(0.8469387755102041, 0.4473684210526316, 'X[3] <= 0.15\\nentropy = 0.863\\nsamples = 7\\nvalue = [5, 2]'),\n",
       " Text(0.8367346938775511, 0.39473684210526316, 'entropy = 0.0\\nsamples = 5\\nvalue = [5, 0]'),\n",
       " Text(0.8571428571428571, 0.39473684210526316, 'entropy = 0.0\\nsamples = 2\\nvalue = [0, 2]'),\n",
       " Text(0.8673469387755102, 0.4473684210526316, 'entropy = 0.0\\nsamples = 4\\nvalue = [0, 4]'),\n",
       " Text(0.8775510204081632, 0.5, 'entropy = 0.0\\nsamples = 8\\nvalue = [0, 8]'),\n",
       " Text(0.8877551020408163, 0.5526315789473685, 'entropy = 0.0\\nsamples = 4\\nvalue = [4, 0]'),\n",
       " Text(0.8979591836734694, 0.6052631578947368, 'entropy = 0.0\\nsamples = 34\\nvalue = [0, 34]'),\n",
       " Text(0.9081632653061225, 0.6578947368421053, 'entropy = 0.0\\nsamples = 3\\nvalue = [3, 0]'),\n",
       " Text(0.9489795918367347, 0.7105263157894737, 'X[7] <= 0.458\\nentropy = 0.258\\nsamples = 92\\nvalue = [4, 88]'),\n",
       " Text(0.9285714285714286, 0.6578947368421053, 'X[4] <= 0.889\\nentropy = 0.1\\nsamples = 77\\nvalue = [1, 76]'),\n",
       " Text(0.9183673469387755, 0.6052631578947368, 'entropy = 0.0\\nsamples = 76\\nvalue = [0, 76]'),\n",
       " Text(0.9387755102040817, 0.6052631578947368, 'entropy = 0.0\\nsamples = 1\\nvalue = [1, 0]'),\n",
       " Text(0.9693877551020408, 0.6578947368421053, 'X[6] <= 0.139\\nentropy = 0.722\\nsamples = 15\\nvalue = [3, 12]'),\n",
       " Text(0.9591836734693877, 0.6052631578947368, 'entropy = 0.0\\nsamples = 3\\nvalue = [3, 0]'),\n",
       " Text(0.9795918367346939, 0.6052631578947368, 'entropy = 0.0\\nsamples = 12\\nvalue = [0, 12]'),\n",
       " Text(0.9795918367346939, 0.7631578947368421, 'X[4] <= 0.161\\nentropy = 0.989\\nsamples = 16\\nvalue = [7, 9]'),\n",
       " Text(0.9693877551020408, 0.7105263157894737, 'entropy = 0.0\\nsamples = 9\\nvalue = [0, 9]'),\n",
       " Text(0.9897959183673469, 0.7105263157894737, 'entropy = 0.0\\nsamples = 7\\nvalue = [7, 0]')]"
      ]
     },
     "execution_count": 32,
     "metadata": {},
     "output_type": "execute_result"
    },
    {
     "data": {
      "image/png": "[encoded data removed]",
      "text/plain": [
       "<Figure size 432x288 with 1 Axes>"
      ]
     },
     "metadata": {
      "needs_background": "light"
     },
     "output_type": "display_data"
    }
   ],
   "source": [
    "from sklearn import tree\n",
    "tree.plot_tree(dtc)"
   ]
  },
  {
   "cell_type": "markdown",
   "id": "2637b4aa",
   "metadata": {},
   "source": [
    "## Decision Tree with Gini Index"
   ]
  },
  {
   "cell_type": "code",
   "execution_count": 33,
   "id": "ba731650",
   "metadata": {},
   "outputs": [
    {
     "data": {
      "text/plain": [
       "array([0, 1, 0, 0, 0, 0, 1, 1, 1, 0, 1, 1, 0, 0, 1, 1, 0, 1, 1, 0, 0, 0,\n",
       "       0, 0, 0, 0, 1, 0, 1, 0, 0, 0, 1, 0, 1, 1, 0, 1, 0, 1, 1, 0, 0, 0,\n",
       "       0, 1, 1, 0, 1, 1, 1, 0, 0, 0, 0, 1, 0, 0, 1, 0, 0, 1, 0, 0, 0, 0,\n",
       "       0, 0, 0, 0, 1, 0, 0, 0, 0, 0, 0, 1, 1, 0, 0, 0, 1, 1, 0, 1, 0, 0,\n",
       "       0, 0, 1, 1, 0, 1, 0, 0, 0, 1, 1, 0, 0, 0, 0, 0, 0, 0, 0, 0, 1, 0,\n",
       "       0, 0, 0, 0, 1, 0, 0, 0, 0, 1, 1, 1, 0, 1, 0, 0, 0, 0, 1, 0, 0, 0,\n",
       "       0, 0, 1, 0, 0, 0, 0, 0, 1, 0, 1, 0, 0, 0, 0, 0, 0, 0, 0, 1, 0, 0,\n",
       "       1, 1, 0, 0, 1, 0, 0, 1, 1, 0, 1, 0, 0, 1, 1, 0, 0, 0, 0, 0, 1, 0,\n",
       "       1, 0, 1, 1, 1, 0, 1, 1, 0, 0, 1, 0, 0, 1, 0, 1, 0, 1, 0, 0, 0, 0,\n",
       "       1, 1, 0, 1, 0, 0, 0, 0, 0, 0, 0, 1, 0, 1, 0, 0, 0, 0, 0, 0, 1, 1,\n",
       "       1, 0, 0, 1, 0, 0, 0, 0, 0, 1, 0, 1, 0, 0, 0, 0, 0, 0, 0, 0, 0, 1,\n",
       "       1, 0, 0, 0, 0, 0, 0, 0, 1, 1, 0, 0, 1, 0, 0, 0, 0, 0, 1, 1, 0, 0,\n",
       "       0, 1, 0, 1, 0, 0, 0, 0, 1, 0, 0, 0, 0, 0, 1, 0, 0, 0, 0, 1, 1, 1,\n",
       "       1, 0, 0, 0, 0, 0, 1, 0, 0, 1, 0, 1, 0, 1, 0, 0, 1, 0, 0, 0, 0, 1,\n",
       "       0, 1, 1, 0, 0, 0, 1, 1, 0, 0, 0, 0, 0, 0, 1, 0, 0, 0, 1, 0, 1, 0,\n",
       "       0, 1, 1, 0, 0, 0, 1, 1, 0, 1, 1, 1, 0, 0, 1, 1, 0, 1, 1, 0, 0, 1,\n",
       "       0, 0, 1, 0, 1, 0, 1, 1, 0, 0, 0, 1, 1, 1, 1, 1, 0, 0, 1, 0, 1, 0,\n",
       "       0, 0, 1, 1, 0, 1, 1, 0, 1, 0, 1, 0, 0, 0, 0, 0, 0, 1, 0, 0, 1, 0,\n",
       "       0, 0, 1, 1, 1, 0, 1, 0, 0, 0, 0, 0, 0, 0, 1, 0, 0, 1, 0, 0, 0, 0,\n",
       "       0, 1, 1, 1, 0, 0, 1, 0, 0, 0, 0, 0, 1, 1, 0, 0, 1, 0, 1, 0, 0, 0,\n",
       "       0, 0, 1, 0, 0, 0, 1, 0, 0, 0, 1, 0, 0, 1, 0, 0, 0, 0, 1, 1, 0, 0,\n",
       "       0, 1, 0, 0, 0, 1, 1, 1, 0, 0, 1, 0, 0, 1, 0, 0, 1, 0, 1, 1, 0, 0,\n",
       "       0, 0, 0, 0, 0, 0, 1, 0, 1, 0, 1, 1, 0, 1, 0, 0, 0, 0, 0, 0, 1, 0,\n",
       "       1, 0, 0, 0, 1, 0, 0, 0, 0, 0, 0, 0, 0, 1, 1, 0, 0, 0, 0, 0, 1, 0,\n",
       "       1, 0, 1, 0, 1, 0, 0, 1, 1, 0, 0, 1, 1, 0, 1, 0, 0, 0, 1, 0, 0, 0,\n",
       "       1, 1, 0, 0, 1, 1, 1, 0, 0, 0, 0, 0, 0, 0, 0, 0, 1, 1, 1, 1, 1, 1,\n",
       "       0, 0, 0, 0, 1, 0, 0, 1, 1, 0, 1, 1, 0, 0, 0, 1, 1, 0, 0, 0, 0, 1,\n",
       "       1, 0, 0, 1, 0, 0], dtype=int64)"
      ]
     },
     "execution_count": 33,
     "metadata": {},
     "output_type": "execute_result"
    }
   ],
   "source": [
    "from sklearn.tree import DecisionTreeClassifier\n",
    "dtc1=DecisionTreeClassifier(criterion='gini')\n",
    "dtc1.fit(xtrain,ytrain)\n",
    "ypred_dtc1=dtc1.predict(xtest)\n",
    "ypred_dtc1"
   ]
  },
  {
   "cell_type": "code",
   "execution_count": 34,
   "id": "bc68f516",
   "metadata": {},
   "outputs": [
    {
     "name": "stdout",
     "output_type": "stream",
     "text": [
      "classification report:\n",
      "               precision    recall  f1-score   support\n",
      "\n",
      "           0       0.96      0.97      0.96       389\n",
      "           1       0.94      0.92      0.93       211\n",
      "\n",
      "    accuracy                           0.95       600\n",
      "   macro avg       0.95      0.94      0.94       600\n",
      "weighted avg       0.95      0.95      0.95       600\n",
      "\n",
      "Accuracy score: 0.95\n",
      "Confusion matrix:\n",
      " [[376  13]\n",
      " [ 17 194]]\n"
     ]
    }
   ],
   "source": [
    "from sklearn.metrics import classification_report,accuracy_score,confusion_matrix\n",
    "print('classification report:\\n',classification_report(ytest,ypred_dtc1))\n",
    "print('Accuracy score:',accuracy_score(ytest,ypred_dtc1))\n",
    "print('Confusion matrix:\\n',confusion_matrix(ytest,ypred_dtc1))"
   ]
  },
  {
   "cell_type": "markdown",
   "id": "8edd6f42",
   "metadata": {},
   "source": [
    "## Random Forest"
   ]
  },
  {
   "cell_type": "code",
   "execution_count": 35,
   "id": "6f108dc2",
   "metadata": {},
   "outputs": [
    {
     "data": {
      "text/plain": [
       "array([0, 1, 0, 0, 0, 0, 1, 1, 0, 0, 1, 1, 0, 0, 1, 1, 0, 1, 1, 0, 0, 0,\n",
       "       0, 0, 0, 0, 1, 0, 1, 0, 0, 0, 1, 0, 1, 1, 0, 1, 0, 1, 1, 0, 0, 0,\n",
       "       0, 1, 1, 0, 1, 1, 1, 0, 0, 0, 0, 1, 0, 0, 1, 0, 0, 1, 0, 0, 0, 0,\n",
       "       0, 0, 0, 0, 1, 1, 0, 0, 0, 0, 0, 1, 1, 0, 0, 0, 1, 1, 0, 1, 0, 0,\n",
       "       0, 0, 1, 1, 0, 1, 0, 0, 0, 1, 1, 0, 0, 0, 0, 0, 0, 0, 0, 0, 1, 0,\n",
       "       0, 0, 0, 0, 1, 0, 0, 1, 0, 1, 1, 1, 0, 1, 0, 0, 0, 0, 1, 0, 0, 0,\n",
       "       0, 0, 1, 0, 0, 0, 0, 0, 0, 0, 1, 0, 0, 0, 0, 0, 0, 0, 0, 1, 0, 0,\n",
       "       1, 1, 0, 0, 1, 0, 0, 1, 1, 0, 1, 0, 0, 1, 1, 0, 0, 0, 0, 0, 1, 0,\n",
       "       0, 0, 1, 1, 1, 0, 1, 1, 0, 0, 1, 0, 0, 1, 0, 1, 0, 1, 0, 0, 0, 0,\n",
       "       1, 1, 0, 1, 0, 0, 0, 0, 0, 0, 0, 1, 0, 1, 0, 0, 0, 0, 0, 0, 1, 1,\n",
       "       1, 0, 0, 1, 0, 0, 0, 0, 0, 1, 0, 1, 0, 0, 0, 0, 0, 0, 0, 0, 0, 1,\n",
       "       1, 0, 0, 0, 0, 0, 0, 0, 1, 1, 0, 0, 1, 0, 0, 0, 0, 0, 1, 1, 0, 0,\n",
       "       0, 1, 0, 0, 0, 0, 0, 0, 1, 0, 1, 1, 0, 0, 1, 0, 0, 0, 0, 1, 1, 1,\n",
       "       1, 0, 0, 0, 1, 0, 1, 0, 0, 1, 0, 1, 1, 1, 0, 0, 1, 0, 0, 0, 0, 1,\n",
       "       0, 1, 1, 0, 0, 0, 1, 1, 0, 0, 0, 0, 0, 0, 1, 0, 0, 0, 1, 0, 1, 0,\n",
       "       0, 1, 1, 0, 0, 0, 1, 1, 0, 1, 1, 1, 0, 0, 1, 1, 0, 1, 1, 0, 0, 1,\n",
       "       0, 0, 1, 0, 1, 0, 1, 0, 0, 0, 0, 1, 1, 1, 1, 1, 0, 0, 1, 0, 1, 0,\n",
       "       0, 0, 1, 1, 0, 1, 1, 0, 1, 0, 1, 0, 0, 0, 0, 0, 0, 1, 0, 0, 1, 0,\n",
       "       0, 0, 1, 1, 1, 0, 1, 0, 0, 0, 0, 0, 0, 0, 1, 0, 1, 1, 0, 0, 0, 0,\n",
       "       0, 1, 1, 0, 0, 0, 1, 0, 0, 0, 0, 0, 1, 1, 0, 0, 0, 0, 1, 0, 0, 0,\n",
       "       0, 0, 1, 0, 0, 0, 1, 0, 0, 0, 1, 0, 0, 1, 0, 0, 0, 0, 1, 1, 0, 0,\n",
       "       0, 1, 0, 0, 0, 1, 1, 1, 0, 0, 1, 0, 0, 1, 0, 0, 1, 0, 1, 1, 0, 0,\n",
       "       0, 0, 0, 0, 0, 0, 1, 0, 1, 0, 1, 1, 0, 1, 0, 0, 0, 0, 0, 0, 1, 0,\n",
       "       1, 0, 0, 0, 1, 0, 0, 0, 0, 0, 0, 0, 0, 1, 1, 0, 0, 0, 0, 0, 1, 0,\n",
       "       1, 0, 1, 0, 1, 0, 0, 1, 1, 0, 0, 1, 1, 0, 1, 0, 0, 0, 1, 0, 0, 0,\n",
       "       1, 1, 0, 0, 1, 1, 1, 0, 0, 0, 0, 0, 0, 0, 0, 0, 1, 1, 1, 0, 1, 1,\n",
       "       0, 0, 0, 0, 1, 0, 0, 1, 1, 0, 1, 0, 0, 0, 0, 1, 1, 0, 0, 0, 0, 1,\n",
       "       1, 0, 0, 1, 0, 0], dtype=int64)"
      ]
     },
     "execution_count": 35,
     "metadata": {},
     "output_type": "execute_result"
    }
   ],
   "source": [
    "from sklearn.ensemble import RandomForestClassifier\n",
    "rfc=RandomForestClassifier()\n",
    "rfc.fit(xtrain,ytrain)\n",
    "ypred_rfc=rfc.predict(xtest)\n",
    "ypred_rfc"
   ]
  },
  {
   "cell_type": "code",
   "execution_count": 36,
   "id": "f29ead49",
   "metadata": {},
   "outputs": [
    {
     "name": "stdout",
     "output_type": "stream",
     "text": [
      "classification report:\n",
      "               precision    recall  f1-score   support\n",
      "\n",
      "           0       0.95      0.97      0.96       389\n",
      "           1       0.94      0.91      0.93       211\n",
      "\n",
      "    accuracy                           0.95       600\n",
      "   macro avg       0.95      0.94      0.94       600\n",
      "weighted avg       0.95      0.95      0.95       600\n",
      "\n",
      "Accuracy score: 0.95\n",
      "Confusion matrix:\n",
      " [[377  12]\n",
      " [ 18 193]]\n"
     ]
    }
   ],
   "source": [
    "from sklearn.metrics import classification_report,accuracy_score,confusion_matrix\n",
    "print('classification report:\\n',classification_report(ytest,ypred_rfc))\n",
    "print('Accuracy score:',accuracy_score(ytest,ypred_rfc))\n",
    "print('Confusion matrix:\\n',confusion_matrix(ytest,ypred_rfc))"
   ]
  },
  {
   "cell_type": "markdown",
   "id": "e42001fd",
   "metadata": {},
   "source": [
    "# Bagging "
   ]
  },
  {
   "cell_type": "markdown",
   "id": "0f1be8f8",
   "metadata": {},
   "source": [
    "# 1) Bagging Classifier"
   ]
  },
  {
   "cell_type": "code",
   "execution_count": 37,
   "id": "4f8d0141",
   "metadata": {},
   "outputs": [
    {
     "name": "stdout",
     "output_type": "stream",
     "text": [
      "Building estimator 1 of 7 for this parallel run (total 7)...\n",
      "Building estimator 2 of 7 for this parallel run (total 7)...\n",
      "Building estimator 3 of 7 for this parallel run (total 7)...\n",
      "Building estimator 4 of 7 for this parallel run (total 7)...\n",
      "Building estimator 5 of 7 for this parallel run (total 7)...\n",
      "Building estimator 6 of 7 for this parallel run (total 7)...\n",
      "Building estimator 7 of 7 for this parallel run (total 7)...\n",
      "[0 1 0 0 0 0 1 1 0 0 1 1 0 0 1 1 0 1 1 0 0 0 0 0 0 0 1 0 1 0 0 0 1 0 1 1 0\n",
      " 1 0 1 1 0 0 0 0 1 1 0 1 0 1 0 0 0 0 1 0 0 1 0 0 1 0 0 0 0 0 0 0 0 1 0 0 0\n",
      " 0 0 0 1 1 0 0 0 1 1 1 1 0 0 0 0 1 1 0 1 0 0 1 1 1 0 0 0 0 0 0 0 0 0 1 0 0\n",
      " 0 0 0 1 0 0 1 0 1 1 1 0 1 0 0 0 0 0 0 0 0 0 0 1 0 0 0 0 0 1 0 1 0 0 0 0 0\n",
      " 0 0 0 1 0 0 1 1 0 0 1 0 0 1 1 0 1 0 0 1 1 0 0 0 0 0 1 0 1 0 1 1 1 0 1 1 0\n",
      " 0 1 0 0 1 0 1 0 1 0 0 0 0 1 1 0 1 1 0 0 0 0 0 0 1 0 1 0 0 0 0 0 0 1 1 1 0\n",
      " 0 1 0 0 0 0 0 1 0 0 0 0 0 0 0 0 1 0 0 1 1 0 0 0 0 0 0 0 1 1 0 0 1 0 0 0 0\n",
      " 0 1 1 0 0 0 1 0 0 0 0 0 0 1 0 1 0 0 0 1 0 0 0 0 1 1 1 1 0 0 0 1 0 1 0 0 1\n",
      " 0 1 1 1 0 0 0 0 0 0 0 1 0 1 1 0 0 0 1 1 0 0 0 0 0 0 1 0 0 0 1 0 1 0 0 1 1\n",
      " 0 0 0 1 1 0 1 1 1 0 0 1 1 0 1 1 0 0 1 0 0 1 0 1 0 1 1 0 0 0 1 1 1 1 1 0 0\n",
      " 1 0 1 0 0 0 1 1 0 1 1 0 1 0 1 0 0 0 0 0 0 1 0 0 1 0 0 0 1 1 1 0 0 0 0 0 0\n",
      " 0 0 0 1 0 1 1 0 0 0 0 0 1 1 0 0 0 1 0 0 0 0 0 1 1 0 0 1 0 1 0 0 0 0 0 1 0\n",
      " 0 0 1 0 0 0 1 0 0 1 0 0 0 0 0 1 0 0 0 1 0 0 0 1 0 0 0 0 1 0 0 1 0 0 1 0 1\n",
      " 1 0 0 0 0 0 0 0 0 1 0 1 0 1 0 0 1 0 0 0 0 0 0 1 0 1 0 0 0 1 0 0 0 0 0 0 0\n",
      " 0 1 1 0 0 0 0 0 1 0 1 0 1 0 1 0 0 1 1 0 0 1 1 0 1 0 0 0 1 0 0 0 1 1 0 0 1\n",
      " 1 1 0 0 0 0 0 0 0 0 0 1 1 1 0 1 1 0 0 0 0 1 0 0 1 1 0 1 1 0 0 0 1 1 0 0 0\n",
      " 0 1 1 0 0 1 0 0]\n"
     ]
    },
    {
     "name": "stderr",
     "output_type": "stream",
     "text": [
      "[Parallel(n_jobs=1)]: Using backend SequentialBackend with 1 concurrent workers.\n",
      "[Parallel(n_jobs=1)]: Done   1 out of   1 | elapsed:    0.0s remaining:    0.0s\n",
      "[Parallel(n_jobs=1)]: Done   1 out of   1 | elapsed:    0.0s finished\n",
      "[Parallel(n_jobs=1)]: Using backend SequentialBackend with 1 concurrent workers.\n",
      "[Parallel(n_jobs=1)]: Done   1 out of   1 | elapsed:    0.0s remaining:    0.0s\n",
      "[Parallel(n_jobs=1)]: Done   1 out of   1 | elapsed:    0.0s finished\n"
     ]
    }
   ],
   "source": [
    "from sklearn.ensemble import BaggingClassifier\n",
    "bag_clas=BaggingClassifier(base_estimator=dtc1,n_estimators=7,verbose=2)\n",
    "bag_clas.fit(xtrain,ytrain)\n",
    "ypred_bc=bag_clas.predict(xtest)\n",
    "print(ypred_bc)"
   ]
  },
  {
   "cell_type": "code",
   "execution_count": 38,
   "id": "0fb7854b",
   "metadata": {},
   "outputs": [
    {
     "name": "stdout",
     "output_type": "stream",
     "text": [
      "Confusion Matrix : [[371  18]\n",
      " [ 26 185]]\n",
      "Accuracy Score: 0.9266666666666666\n",
      "classification matrix:                precision    recall  f1-score   support\n",
      "\n",
      "           0       0.93      0.95      0.94       389\n",
      "           1       0.91      0.88      0.89       211\n",
      "\n",
      "    accuracy                           0.93       600\n",
      "   macro avg       0.92      0.92      0.92       600\n",
      "weighted avg       0.93      0.93      0.93       600\n",
      "\n"
     ]
    }
   ],
   "source": [
    "from sklearn.metrics import accuracy_score,confusion_matrix,classification_report\n",
    "print(\"Confusion Matrix :\",confusion_matrix(ytest,ypred_bc))\n",
    "print(\"Accuracy Score:\",accuracy_score(ytest,ypred_bc))\n",
    "print(\"classification matrix: \",classification_report(ytest,ypred_bc))"
   ]
  },
  {
   "cell_type": "code",
   "execution_count": 39,
   "id": "f613a4c2",
   "metadata": {},
   "outputs": [
    {
     "data": {
      "image/png": "[encoded data removed]",
      "text/plain": [
       "<Figure size 1224x360 with 1 Axes>"
      ]
     },
     "metadata": {
      "needs_background": "light"
     },
     "output_type": "display_data"
    }
   ],
   "source": [
    "ax=plt.figure(figsize=(17,5))\n",
    "x=(accuracy_score(ytest,ypred_lr),accuracy_score(ytest,ypred_knn),accuracy_score(ytest,ypred_gnb),accuracy_score(ytest,ypred_mnb),accuracy_score(ytest,ypred_bnb),accuracy_score(ytest,ypred_dtc),accuracy_score(ytest,ypred_dtc1),accuracy_score(ytest,ypred_rfc))\n",
    "plt.bar(['Logistic Regression','KNN','Gaussian Naive Bayes','Multinomial Naive Bayes','Bernouli Naive Bayes','Decision Tree Entropy','Decision Tree Gini','Random Forest'],x,label='Accuracy')\n",
    "plt.ylabel('Accuracy')\n",
    "plt.xlabel('Algortihms')\n",
    "plt.show()"
   ]
  },
  {
   "cell_type": "code",
   "execution_count": 40,
   "id": "cfb47fed",
   "metadata": {},
   "outputs": [],
   "source": [
    "import pickle"
   ]
  },
  {
   "cell_type": "code",
   "execution_count": null,
   "id": "c87cd4cf",
   "metadata": {},
   "outputs": [],
   "source": []
  },
  {
   "cell_type": "code",
   "execution_count": null,
   "id": "2362acc9",
   "metadata": {},
   "outputs": [],
   "source": []
  },
  {
   "cell_type": "code",
   "execution_count": null,
   "id": "6d12269b",
   "metadata": {},
   "outputs": [],
   "source": []
  },
  {
   "cell_type": "code",
   "execution_count": null,
   "id": "c7c25053",
   "metadata": {},
   "outputs": [],
   "source": []
  }
 ],
 "metadata": {
  "kernelspec": {
   "display_name": "Python 3 (ipykernel)",
   "language": "python",
   "name": "python3"
  },
  "language_info": {
   "codemirror_mode": {
    "name": "ipython",
    "version": 3
   },
   "file_extension": ".py",
   "mimetype": "text/x-python",
   "name": "python",
   "nbconvert_exporter": "python",
   "pygments_lexer": "ipython3",
   "version": "3.9.12"
  }
 },
 "nbformat": 4,
 "nbformat_minor": 5
}
